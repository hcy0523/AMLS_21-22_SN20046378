{
 "cells": [
  {
   "cell_type": "markdown",
   "id": "eebfeaed",
   "metadata": {},
   "source": [
    "# Random Forest"
   ]
  },
  {
   "cell_type": "markdown",
   "id": "0d703179",
   "metadata": {},
   "source": [
    "### Import libraries\n",
    "The required libraries for this notebook are pandas, sklearn, copy, numpy, pickle and matplotlib.\n",
    "\n",
    "\n"
   ]
  },
  {
   "cell_type": "code",
   "execution_count": 1,
   "id": "46e606eb",
   "metadata": {},
   "outputs": [],
   "source": [
    "# import libraries\n",
    "import numpy as np\n",
    "import pandas as pd\n",
    "from PIL import Image\n",
    "import csv\n",
    "import cv2\n",
    "import os\n",
    "import matplotlib.pyplot as plt\n",
    "\n",
    "from sklearn.decomposition import PCA\n",
    "import joblib\n",
    "\n",
    "from sklearn.utils import shuffle\n",
    "from sklearn.model_selection import train_test_split\n",
    "\n",
    "from sklearn.metrics import confusion_matrix, classification_report,accuracy_score\n",
    "\n",
    "from sklearn.preprocessing import MinMaxScaler\n",
    "from sklearn.preprocessing import StandardScaler\n",
    "from sklearn.ensemble import RandomForestClassifier\n",
    "from sklearn.model_selection import GridSearchCV"
   ]
  },
  {
   "cell_type": "markdown",
   "id": "bede97f9",
   "metadata": {},
   "source": [
    "### Load the data\n",
    "We are going to use the Brain Tumors dataset "
   ]
  },
  {
   "cell_type": "code",
   "execution_count": 2,
   "id": "311adb17",
   "metadata": {},
   "outputs": [],
   "source": [
    "data=pd.read_csv('./dataset/label.csv')\n",
    "df0=pd.DataFrame(data)"
   ]
  },
  {
   "cell_type": "code",
   "execution_count": 3,
   "id": "77a112f6",
   "metadata": {},
   "outputs": [
    {
     "name": "stdout",
     "output_type": "stream",
     "text": [
      "(3000, 262146)\n"
     ]
    }
   ],
   "source": [
    "for root, dirs, files in os.walk('./dataset/image'):\n",
    "    for d in dirs:\n",
    "        print(d) \n",
    "    i=0\n",
    "    Data=[]\n",
    "    for file in files:  \n",
    "        img_path = root+'/'+file\n",
    "        img = cv2.imread(img_path,0)\n",
    "        image_data = img.flatten()\n",
    "        Data.append(image_data)\n",
    "    Data_Array = np.array(Data)\n",
    "    df = pd.DataFrame(Data_Array)\n",
    "    df2 = pd.concat([df0,df],axis=1)\n",
    "    print(df2.shape)\n"
   ]
  },
  {
   "cell_type": "code",
   "execution_count": 13,
   "id": "97eb077b",
   "metadata": {},
   "outputs": [
    {
     "name": "stdout",
     "output_type": "stream",
     "text": [
      "(3000, 262146)\n"
     ]
    }
   ],
   "source": []
  },
  {
   "cell_type": "markdown",
   "id": "e5946f5d",
   "metadata": {},
   "source": [
    "### Shuffle and split the data into training and test set"
   ]
  },
  {
   "cell_type": "code",
   "execution_count": 4,
   "id": "b1dda8ad",
   "metadata": {},
   "outputs": [],
   "source": [
    "target=[]\n",
    "for tumor in df0.label:\n",
    "    if tumor == 'no_tumor':\n",
    "        target.append(0)\n",
    "    else:\n",
    "        target.append(1)\n",
    "target = np.array(target)"
   ]
  },
  {
   "cell_type": "markdown",
   "id": "79bc300f",
   "metadata": {},
   "source": [
    "0 represents No tumor，1 represents Tumor"
   ]
  },
  {
   "cell_type": "code",
   "execution_count": 5,
   "id": "e5658e85",
   "metadata": {},
   "outputs": [],
   "source": [
    "values= df"
   ]
  },
  {
   "cell_type": "code",
   "execution_count": 6,
   "id": "b261245f",
   "metadata": {},
   "outputs": [],
   "source": [
    "values, target = shuffle(values,target)\n",
    "x_train, x_test, y_train, y_test = train_test_split(values, target, train_size=0.8, random_state=0)"
   ]
  },
  {
   "cell_type": "code",
   "execution_count": 7,
   "id": "6af3a371",
   "metadata": {
    "scrolled": true
   },
   "outputs": [
    {
     "name": "stdout",
     "output_type": "stream",
     "text": [
      "(2400, 262144) (600, 262144) 2400 600\n",
      "train set: 0.8  | test set: 0.2\n"
     ]
    }
   ],
   "source": [
    "print(x_train.shape, x_test.shape, len(y_train), len(y_test))\n",
    "\n",
    "print('train set: {}  | test set: {}'.format(round(((len(y_train)*1.0)/len(values)),3),\n",
    "                                                       round((len(y_test)*1.0)/len(values),3)))"
   ]
  },
  {
   "cell_type": "code",
   "execution_count": 8,
   "id": "cf58a50d",
   "metadata": {},
   "outputs": [],
   "source": [
    "# Pre-process data\n",
    "scaler = MinMaxScaler() \n",
    "x_train1 = scaler.fit_transform(x_train)\n",
    "x_test1 = scaler.transform(x_test)\n",
    "scaler = StandardScaler()\n",
    "x_train2 = scaler.fit_transform(x_train)\n",
    "x_test2 = scaler.transform(x_test)"
   ]
  },
  {
   "cell_type": "code",
   "execution_count": 16,
   "id": "cbf0b9ce",
   "metadata": {},
   "outputs": [
    {
     "name": "stdout",
     "output_type": "stream",
     "text": [
      "Random Forest test Accuracy: 0.94\n"
     ]
    }
   ],
   "source": [
    "RF=RandomForestClassifier(n_estimators=80,max_depth=8,min_samples_split=4)\n",
    "\n",
    "#Train the model using the training sets\n",
    "RF.fit(x_train2,y_train)\n",
    "\n",
    "y_pred_RandomForest=RF.predict(x_test2)\n",
    "\n",
    "print(\"Random Forest test Accuracy:\", accuracy_score(y_test, y_pred_RandomForest))"
   ]
  },
  {
   "cell_type": "code",
   "execution_count": 17,
   "id": "2264d75c",
   "metadata": {},
   "outputs": [],
   "source": [
    "joblib.dump(RF, './model/RandomForest_binary.m')\n",
    "RandomForest = joblib.load('./model/RandomForest_binary.m')"
   ]
  },
  {
   "cell_type": "code",
   "execution_count": null,
   "id": "eb98ffd0",
   "metadata": {},
   "outputs": [],
   "source": []
  }
 ],
 "metadata": {
  "kernelspec": {
   "display_name": "Python 3 (ipykernel)",
   "language": "python",
   "name": "python3"
  },
  "language_info": {
   "codemirror_mode": {
    "name": "ipython",
    "version": 3
   },
   "file_extension": ".py",
   "mimetype": "text/x-python",
   "name": "python",
   "nbconvert_exporter": "python",
   "pygments_lexer": "ipython3",
   "version": "3.7.11"
  },
  "varInspector": {
   "cols": {
    "lenName": 16,
    "lenType": 16,
    "lenVar": 40
   },
   "kernels_config": {
    "python": {
     "delete_cmd_postfix": "",
     "delete_cmd_prefix": "del ",
     "library": "var_list.py",
     "varRefreshCmd": "print(var_dic_list())"
    },
    "r": {
     "delete_cmd_postfix": ") ",
     "delete_cmd_prefix": "rm(",
     "library": "var_list.r",
     "varRefreshCmd": "cat(var_dic_list()) "
    }
   },
   "types_to_exclude": [
    "module",
    "function",
    "builtin_function_or_method",
    "instance",
    "_Feature"
   ],
   "window_display": false
  }
 },
 "nbformat": 4,
 "nbformat_minor": 5
}
