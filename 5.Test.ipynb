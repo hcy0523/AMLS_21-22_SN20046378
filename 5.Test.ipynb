{
 "cells": [
  {
   "cell_type": "markdown",
   "id": "eebfeaed",
   "metadata": {},
   "source": [
    "# 5.Test"
   ]
  },
  {
   "cell_type": "markdown",
   "id": "0d703179",
   "metadata": {},
   "source": [
    "### Import libraries\n",
    "The required libraries for this notebook are pandas, sklearn, copy, numpy, pickle and matplotlib.\n",
    "\n",
    "\n"
   ]
  },
  {
   "cell_type": "code",
   "execution_count": 3,
   "id": "46e606eb",
   "metadata": {},
   "outputs": [],
   "source": [
    "# import libraries\n",
    "import numpy as np\n",
    "import pandas as pd\n",
    "import csv\n",
    "import cv2\n",
    "import os\n",
    "import matplotlib.pyplot as plt\n",
    "from collections import Counter\n",
    "from sklearn.decomposition import PCA\n",
    "from sklearn.preprocessing import MinMaxScaler\n",
    "from sklearn.preprocessing import StandardScaler\n",
    "import joblib\n",
    "import tensorflow as tf\n",
    "from sklearn import metrics\n",
    "\n",
    "import openpyxl"
   ]
  },
  {
   "cell_type": "markdown",
   "id": "bede97f9",
   "metadata": {},
   "source": [
    "### Load the data\n",
    "We are going to use the Brain Tumors dataset "
   ]
  },
  {
   "cell_type": "code",
   "execution_count": 2,
   "id": "311adb17",
   "metadata": {},
   "outputs": [],
   "source": [
    "data=pd.read_csv('./test/label.csv')\n",
    "df0=pd.DataFrame(data)"
   ]
  },
  {
   "cell_type": "code",
   "execution_count": 3,
   "id": "77a112f6",
   "metadata": {},
   "outputs": [
    {
     "name": "stdout",
     "output_type": "stream",
     "text": [
      "(200, 262146)\n"
     ]
    }
   ],
   "source": [
    "for root, dirs, files in os.walk('./test/image'):\n",
    "    for d in dirs:\n",
    "        print(d) \n",
    "    i=0\n",
    "    Data=[]\n",
    "    for file in files:  \n",
    "        img_path = root+'/'+file\n",
    "        img = cv2.imread(img_path,0)\n",
    "        image_data = img.flatten()\n",
    "        Data.append(image_data)\n",
    "    Data_Array = np.array(Data)\n",
    "    df = pd.DataFrame(Data_Array)\n",
    "    df2 = pd.concat([df0,df],axis=1)\n",
    "    print(df2.shape)\n"
   ]
  },
  {
   "cell_type": "markdown",
   "id": "277549bd",
   "metadata": {},
   "source": [
    "### Dimension Redusion"
   ]
  },
  {
   "cell_type": "code",
   "execution_count": 4,
   "id": "489ee8ec",
   "metadata": {
    "scrolled": true
   },
   "outputs": [
    {
     "name": "stdout",
     "output_type": "stream",
     "text": [
      "(200, 839)\n"
     ]
    }
   ],
   "source": [
    "pca = joblib.load('./model/pca.m')\n",
    "data_reduced=pca.transform(df)\n",
    "print(data_reduced.shape)"
   ]
  },
  {
   "cell_type": "code",
   "execution_count": 5,
   "id": "288fe672",
   "metadata": {},
   "outputs": [],
   "source": [
    "np.save('test_reduced',data_reduced)"
   ]
  },
  {
   "cell_type": "code",
   "execution_count": 6,
   "id": "affd4b13",
   "metadata": {},
   "outputs": [],
   "source": [
    "target=[]\n",
    "for tumor in df0.label:\n",
    "    if tumor == 'no_tumor':\n",
    "        target.append(0)\n",
    "    else:\n",
    "        target.append(1)\n",
    "target = np.array(target)"
   ]
  },
  {
   "cell_type": "code",
   "execution_count": 7,
   "id": "b9699fa9",
   "metadata": {},
   "outputs": [
    {
     "name": "stdout",
     "output_type": "stream",
     "text": [
      "Counter({1: 163, 0: 37})\n"
     ]
    }
   ],
   "source": [
    "counts=Counter(target)\n",
    "print(counts)# show the distribution of sample"
   ]
  },
  {
   "cell_type": "code",
   "execution_count": 8,
   "id": "9fba07e9",
   "metadata": {},
   "outputs": [],
   "source": [
    "test =data_reduced\n",
    "scaler = MinMaxScaler() \n",
    "test1 = scaler.fit_transform(data_reduced)\n",
    "\n",
    "scaler = StandardScaler()\n",
    "test2 = scaler.fit_transform(data_reduced)"
   ]
  },
  {
   "cell_type": "markdown",
   "id": "af1039ae",
   "metadata": {},
   "source": [
    "### Binary classification"
   ]
  },
  {
   "cell_type": "code",
   "execution_count": 9,
   "id": "368adefb",
   "metadata": {},
   "outputs": [
    {
     "name": "stdout",
     "output_type": "stream",
     "text": [
      "Logistic Regression Accuracy on test set: 0.905\n"
     ]
    }
   ],
   "source": [
    "log = joblib.load('./model/log_binary.m')\n",
    "y_pred_log=log.predict(test2)\n",
    "score_log=metrics.accuracy_score(target,y_pred_log)\n",
    "print('Logistic Regression Accuracy on test set:',score_log)"
   ]
  },
  {
   "cell_type": "code",
   "execution_count": 10,
   "id": "eb98ffd0",
   "metadata": {},
   "outputs": [
    {
     "name": "stdout",
     "output_type": "stream",
     "text": [
      "K-Nearest Neighbours Accuracy on test set: 0.97\n"
     ]
    }
   ],
   "source": [
    "knn = joblib.load('./model/knn_binary.m')\n",
    "y_pred_KNN=knn.predict(test)\n",
    "score_KNN=metrics.accuracy_score(target,y_pred_KNN)\n",
    "print('K-Nearest Neighbours Accuracy on test set:',score_KNN)"
   ]
  },
  {
   "cell_type": "code",
   "execution_count": 11,
   "id": "83f45a11",
   "metadata": {},
   "outputs": [
    {
     "name": "stdout",
     "output_type": "stream",
     "text": [
      "Support Vector Machine Accuracy on test set: 0.925\n"
     ]
    }
   ],
   "source": [
    "SVM = joblib.load('./model/SVM_binary.m')\n",
    "y_pred_SVM=SVM.predict(test)\n",
    "score_SVM=metrics.accuracy_score(target,y_pred_SVM)\n",
    "print('Support Vector Machine Accuracy on test set:',score_SVM)"
   ]
  },
  {
   "cell_type": "code",
   "execution_count": 12,
   "id": "d3fa17b5",
   "metadata": {},
   "outputs": [],
   "source": [
    "scaler = StandardScaler()\n",
    "test3 = scaler.fit_transform(df)"
   ]
  },
  {
   "cell_type": "code",
   "execution_count": 13,
   "id": "1f015b5e",
   "metadata": {},
   "outputs": [
    {
     "name": "stdout",
     "output_type": "stream",
     "text": [
      "Random Forest Accuracy on test set: 0.915\n"
     ]
    }
   ],
   "source": [
    "RF = joblib.load('./model/RandomForest_binary.m')\n",
    "y_pred_RandomForest=RF.predict(test3)\n",
    "score_RandomForest=metrics.accuracy_score(target,y_pred_RandomForest)\n",
    "print('Random Forest Accuracy on test set:',score_RandomForest)"
   ]
  },
  {
   "cell_type": "markdown",
   "id": "5a7c9c4a",
   "metadata": {},
   "source": [
    "### Multiclass"
   ]
  },
  {
   "cell_type": "markdown",
   "id": "eddfdd19",
   "metadata": {},
   "source": [
    "    0 represents no tumor     \n",
    "    1 represents meningioma_tumor\n",
    "    2 represents glioma_tumor\n",
    "    3 represents pituitary_tumor"
   ]
  },
  {
   "cell_type": "code",
   "execution_count": 14,
   "id": "9ef701fc",
   "metadata": {},
   "outputs": [],
   "source": [
    "Target=[]\n",
    "for tumor in df0.label:\n",
    "    if tumor == 'no_tumor':\n",
    "        Target.append(0)\n",
    "    elif tumor == 'meningioma_tumor':\n",
    "        Target.append(1)\n",
    "    elif tumor == 'glioma_tumor':\n",
    "        Target.append(2)\n",
    "    elif tumor == 'pituitary_tumor':\n",
    "        Target.append(3)\n",
    "Target = np.array(Target)\n",
    "#print(Target)"
   ]
  },
  {
   "cell_type": "code",
   "execution_count": 15,
   "id": "abe25118",
   "metadata": {},
   "outputs": [
    {
     "name": "stdout",
     "output_type": "stream",
     "text": [
      "Support Vector Machine Accuracy on test set: 0.84\n"
     ]
    }
   ],
   "source": [
    "SVM_multiple = joblib.load('./model/SVM_multiple.m')\n",
    "y_pred_SVM_multiple =SVM_multiple .predict(test)\n",
    "score_SVM_multiple=metrics.accuracy_score(Target,y_pred_SVM_multiple )\n",
    "print('Support Vector Machine Accuracy on test set:',score_SVM_multiple)"
   ]
  },
  {
   "cell_type": "code",
   "execution_count": null,
   "id": "0df261dd",
   "metadata": {},
   "outputs": [],
   "source": []
  },
  {
   "cell_type": "code",
   "execution_count": 68,
   "id": "f94a18b6",
   "metadata": {},
   "outputs": [],
   "source": [
    "MLP =tf.keras.models.load_model('./model/MLP.h5')"
   ]
  },
  {
   "cell_type": "code",
   "execution_count": 69,
   "id": "7bf551ed",
   "metadata": {},
   "outputs": [
    {
     "name": "stdout",
     "output_type": "stream",
     "text": [
      "Multi-layer Perceptron classifier Accuracy on test set: 0.825\n"
     ]
    }
   ],
   "source": [
    "y_pred_MLP =MLP.predict_classes(test2)\n",
    "score_MLP=metrics.accuracy_score(Target,y_pred_MLP )\n",
    "print('Multi-layer Perceptron classifier Accuracy on test set:',score_MLP)"
   ]
  },
  {
   "cell_type": "code",
   "execution_count": null,
   "id": "88e2df26",
   "metadata": {},
   "outputs": [],
   "source": []
  },
  {
   "cell_type": "code",
   "execution_count": 70,
   "id": "debf2a65",
   "metadata": {},
   "outputs": [
    {
     "data": {
      "text/html": [
       "<div>\n",
       "<style scoped>\n",
       "    .dataframe tbody tr th:only-of-type {\n",
       "        vertical-align: middle;\n",
       "    }\n",
       "\n",
       "    .dataframe tbody tr th {\n",
       "        vertical-align: top;\n",
       "    }\n",
       "\n",
       "    .dataframe thead th {\n",
       "        text-align: right;\n",
       "    }\n",
       "</style>\n",
       "<table border=\"1\" class=\"dataframe\">\n",
       "  <thead>\n",
       "    <tr style=\"text-align: right;\">\n",
       "      <th></th>\n",
       "      <th></th>\n",
       "      <th>Method</th>\n",
       "      <th>Percentage</th>\n",
       "    </tr>\n",
       "  </thead>\n",
       "  <tbody>\n",
       "    <tr>\n",
       "      <th rowspan=\"4\" valign=\"top\">binary</th>\n",
       "      <th>1</th>\n",
       "      <td>Logistic Regression</td>\n",
       "      <td>0.905</td>\n",
       "    </tr>\n",
       "    <tr>\n",
       "      <th>2</th>\n",
       "      <td>K-Nearest Neighbours</td>\n",
       "      <td>0.970</td>\n",
       "    </tr>\n",
       "    <tr>\n",
       "      <th>3</th>\n",
       "      <td>Random Forest</td>\n",
       "      <td>0.915</td>\n",
       "    </tr>\n",
       "    <tr>\n",
       "      <th>4</th>\n",
       "      <td>Support Vector Machine</td>\n",
       "      <td>0.925</td>\n",
       "    </tr>\n",
       "    <tr>\n",
       "      <th rowspan=\"2\" valign=\"top\">multiclass</th>\n",
       "      <th>1</th>\n",
       "      <td>Support Vector Machine</td>\n",
       "      <td>0.840</td>\n",
       "    </tr>\n",
       "    <tr>\n",
       "      <th>2</th>\n",
       "      <td>Multi-layer Perceptron classifier</td>\n",
       "      <td>0.825</td>\n",
       "    </tr>\n",
       "  </tbody>\n",
       "</table>\n",
       "</div>"
      ],
      "text/plain": [
       "                                         Method  Percentage\n",
       "binary     1                Logistic Regression       0.905\n",
       "           2               K-Nearest Neighbours       0.970\n",
       "           3                      Random Forest       0.915\n",
       "           4             Support Vector Machine       0.925\n",
       "multiclass 1             Support Vector Machine       0.840\n",
       "           2  Multi-layer Perceptron classifier       0.825"
      ]
     },
     "execution_count": 70,
     "metadata": {},
     "output_type": "execute_result"
    }
   ],
   "source": [
    "name=['Logistic Regression','K-Nearest Neighbours','Random Forest','Support Vector Machine','Support Vector Machine','Multi-layer Perceptron classifier']\n",
    "Score=[score_log,score_KNN,score_RandomForest,score_SVM, score_SVM_multiple,score_MLP]\n",
    "Data = {'Method': name, 'Percentage': Score}\n",
    "Table = pd.DataFrame(data=Data,index=[['binary','binary','binary','binary','multiclass','multiclass'],[1,2,3,4,1,2]])\n",
    "Table"
   ]
  },
  {
   "cell_type": "code",
   "execution_count": 71,
   "id": "e509aac5",
   "metadata": {},
   "outputs": [
    {
     "data": {
      "text/html": [
       "<div>\n",
       "<style scoped>\n",
       "    .dataframe tbody tr th:only-of-type {\n",
       "        vertical-align: middle;\n",
       "    }\n",
       "\n",
       "    .dataframe tbody tr th {\n",
       "        vertical-align: top;\n",
       "    }\n",
       "\n",
       "    .dataframe thead th {\n",
       "        text-align: right;\n",
       "    }\n",
       "</style>\n",
       "<table border=\"1\" class=\"dataframe\">\n",
       "  <thead>\n",
       "    <tr style=\"text-align: right;\">\n",
       "      <th></th>\n",
       "      <th></th>\n",
       "      <th>Method</th>\n",
       "      <th>Accuracy</th>\n",
       "    </tr>\n",
       "    <tr>\n",
       "      <th>Tasks</th>\n",
       "      <th>Number</th>\n",
       "      <th></th>\n",
       "      <th></th>\n",
       "    </tr>\n",
       "  </thead>\n",
       "  <tbody>\n",
       "    <tr>\n",
       "      <th rowspan=\"2\" valign=\"top\">binary</th>\n",
       "      <th>1</th>\n",
       "      <td>Logistic Regression</td>\n",
       "      <td>0.905</td>\n",
       "    </tr>\n",
       "    <tr>\n",
       "      <th>2</th>\n",
       "      <td>K-Nearest Neighbours</td>\n",
       "      <td>0.970</td>\n",
       "    </tr>\n",
       "    <tr>\n",
       "      <th rowspan=\"2\" valign=\"top\">multiclass</th>\n",
       "      <th>1</th>\n",
       "      <td>Support Vector Machine</td>\n",
       "      <td>0.840</td>\n",
       "    </tr>\n",
       "    <tr>\n",
       "      <th>2</th>\n",
       "      <td>Multi-layer Perceptron classifier</td>\n",
       "      <td>0.825</td>\n",
       "    </tr>\n",
       "  </tbody>\n",
       "</table>\n",
       "</div>"
      ],
      "text/plain": [
       "                                              Method  Accuracy\n",
       "Tasks      Number                                             \n",
       "binary     1                     Logistic Regression     0.905\n",
       "           2                    K-Nearest Neighbours     0.970\n",
       "multiclass 1                  Support Vector Machine     0.840\n",
       "           2       Multi-layer Perceptron classifier     0.825"
      ]
     },
     "execution_count": 71,
     "metadata": {},
     "output_type": "execute_result"
    }
   ],
   "source": [
    "name=['Logistic Regression','K-Nearest Neighbours','Support Vector Machine','Multi-layer Perceptron classifier']\n",
    "Score=[score_log,score_KNN, score_SVM_multiple,score_MLP]\n",
    "Data = {'Method': name, 'Accuracy': Score}\n",
    "Tasks =['binary','binary','multiclass','multiclass']\n",
    "Number = [1,2,1,2]\n",
    "Data = {'Method': name, 'Accuracy': Score, 'Tasks':Tasks, 'Number':Number}\n",
    "table = pd.DataFrame(data=Data)\n",
    "Table = table.set_index(['Tasks','Number'])\n",
    "Table.to_excel('./Diagram/Table1.xlsx')\n",
    "Table"
   ]
  },
  {
   "cell_type": "code",
   "execution_count": 72,
   "id": "e8afa25c",
   "metadata": {},
   "outputs": [],
   "source": [
    "Table.to_csv('results.csv')"
   ]
  },
  {
   "cell_type": "code",
   "execution_count": 73,
   "id": "ee581a61",
   "metadata": {},
   "outputs": [],
   "source": [
    "# table = pd.read_csv('results.csv')\n",
    "# Table = table.set_index(['Tasks','Number'])"
   ]
  },
  {
   "cell_type": "code",
   "execution_count": 74,
   "id": "57dd2c38",
   "metadata": {},
   "outputs": [
    {
     "name": "stdout",
     "output_type": "stream",
     "text": [
      "Counter({1: 163, 0: 37})\n"
     ]
    }
   ],
   "source": [
    "test_Proportion=Counter(counts)\n",
    "print(test_Proportion)"
   ]
  },
  {
   "cell_type": "code",
   "execution_count": 75,
   "id": "1e170372",
   "metadata": {},
   "outputs": [
    {
     "name": "stdout",
     "output_type": "stream",
     "text": [
      "Counter({1: 168, 0: 32})\n"
     ]
    }
   ],
   "source": [
    "logRegr_Proportion=Counter(y_pred_log)\n",
    "print(logRegr_Proportion)"
   ]
  },
  {
   "cell_type": "code",
   "execution_count": 76,
   "id": "3b6fb157",
   "metadata": {},
   "outputs": [
    {
     "name": "stdout",
     "output_type": "stream",
     "text": [
      "Counter({1: 163, 0: 37})\n"
     ]
    }
   ],
   "source": [
    "KNN_Proportion=Counter( y_pred_KNN)\n",
    "print(KNN_Proportion)"
   ]
  },
  {
   "cell_type": "code",
   "execution_count": 77,
   "id": "4aa443c1",
   "metadata": {},
   "outputs": [
    {
     "name": "stdout",
     "output_type": "stream",
     "text": [
      "Counter({1: 174, 0: 26})\n"
     ]
    }
   ],
   "source": [
    "SVM_Proportion=Counter(y_pred_SVM)\n",
    "print(SVM_Proportion)"
   ]
  },
  {
   "cell_type": "code",
   "execution_count": 78,
   "id": "ad0e6c13",
   "metadata": {
    "scrolled": true
   },
   "outputs": [
    {
     "data": {
      "text/html": [
       "<div>\n",
       "<style scoped>\n",
       "    .dataframe tbody tr th:only-of-type {\n",
       "        vertical-align: middle;\n",
       "    }\n",
       "\n",
       "    .dataframe tbody tr th {\n",
       "        vertical-align: top;\n",
       "    }\n",
       "\n",
       "    .dataframe thead th {\n",
       "        text-align: right;\n",
       "    }\n",
       "</style>\n",
       "<table border=\"1\" class=\"dataframe\">\n",
       "  <thead>\n",
       "    <tr style=\"text-align: right;\">\n",
       "      <th></th>\n",
       "      <th>target</th>\n",
       "      <th>Log</th>\n",
       "      <th>KNN</th>\n",
       "      <th>SVM</th>\n",
       "    </tr>\n",
       "  </thead>\n",
       "  <tbody>\n",
       "    <tr>\n",
       "      <th>1</th>\n",
       "      <td>163</td>\n",
       "      <td>168</td>\n",
       "      <td>163</td>\n",
       "      <td>174</td>\n",
       "    </tr>\n",
       "    <tr>\n",
       "      <th>0</th>\n",
       "      <td>37</td>\n",
       "      <td>32</td>\n",
       "      <td>37</td>\n",
       "      <td>26</td>\n",
       "    </tr>\n",
       "  </tbody>\n",
       "</table>\n",
       "</div>"
      ],
      "text/plain": [
       "   target  Log  KNN  SVM\n",
       "1     163  168  163  174\n",
       "0      37   32   37   26"
      ]
     },
     "execution_count": 78,
     "metadata": {},
     "output_type": "execute_result"
    }
   ],
   "source": [
    "compare={'target':test_Proportion,'Log':logRegr_Proportion,'KNN':KNN_Proportion,'SVM':SVM_Proportion}\n",
    "com_table=pd.DataFrame(compare)\n",
    "com_table.to_excel('./Diagram/Table2.xlsx')\n",
    "com_table"
   ]
  },
  {
   "cell_type": "markdown",
   "id": "0a0f5ad8",
   "metadata": {},
   "source": [
    "0 represents No tumor，1 represents Tumor"
   ]
  },
  {
   "cell_type": "code",
   "execution_count": null,
   "id": "d3caf432",
   "metadata": {},
   "outputs": [],
   "source": []
  },
  {
   "cell_type": "code",
   "execution_count": 79,
   "id": "4d606dce",
   "metadata": {},
   "outputs": [
    {
     "name": "stdout",
     "output_type": "stream",
     "text": [
      "Counter({1: 68, 3: 52, 2: 43, 0: 37})\n"
     ]
    }
   ],
   "source": [
    "Test_Proportion=Counter(Target)\n",
    "print(Test_Proportion)"
   ]
  },
  {
   "cell_type": "code",
   "execution_count": 80,
   "id": "e2a09ba4",
   "metadata": {},
   "outputs": [
    {
     "name": "stdout",
     "output_type": "stream",
     "text": [
      "Counter({3: 63, 1: 59, 2: 46, 0: 32})\n"
     ]
    }
   ],
   "source": [
    "SVM_Proportion_multiple=Counter(y_pred_SVM_multiple)\n",
    "print(SVM_Proportion_multiple)"
   ]
  },
  {
   "cell_type": "code",
   "execution_count": 81,
   "id": "d80704c7",
   "metadata": {},
   "outputs": [
    {
     "name": "stdout",
     "output_type": "stream",
     "text": [
      "Counter({1: 71, 3: 59, 2: 40, 0: 30})\n"
     ]
    }
   ],
   "source": [
    "MLP_Proportion=Counter(y_pred_MLP)\n",
    "print(MLP_Proportion)"
   ]
  },
  {
   "cell_type": "code",
   "execution_count": 82,
   "id": "eaf43e2a",
   "metadata": {
    "scrolled": true
   },
   "outputs": [
    {
     "data": {
      "text/html": [
       "<div>\n",
       "<style scoped>\n",
       "    .dataframe tbody tr th:only-of-type {\n",
       "        vertical-align: middle;\n",
       "    }\n",
       "\n",
       "    .dataframe tbody tr th {\n",
       "        vertical-align: top;\n",
       "    }\n",
       "\n",
       "    .dataframe thead th {\n",
       "        text-align: right;\n",
       "    }\n",
       "</style>\n",
       "<table border=\"1\" class=\"dataframe\">\n",
       "  <thead>\n",
       "    <tr style=\"text-align: right;\">\n",
       "      <th></th>\n",
       "      <th>target</th>\n",
       "      <th>SVM</th>\n",
       "      <th>MLP</th>\n",
       "    </tr>\n",
       "  </thead>\n",
       "  <tbody>\n",
       "    <tr>\n",
       "      <th>1</th>\n",
       "      <td>68</td>\n",
       "      <td>59</td>\n",
       "      <td>71</td>\n",
       "    </tr>\n",
       "    <tr>\n",
       "      <th>2</th>\n",
       "      <td>43</td>\n",
       "      <td>46</td>\n",
       "      <td>40</td>\n",
       "    </tr>\n",
       "    <tr>\n",
       "      <th>3</th>\n",
       "      <td>52</td>\n",
       "      <td>63</td>\n",
       "      <td>59</td>\n",
       "    </tr>\n",
       "    <tr>\n",
       "      <th>0</th>\n",
       "      <td>37</td>\n",
       "      <td>32</td>\n",
       "      <td>30</td>\n",
       "    </tr>\n",
       "  </tbody>\n",
       "</table>\n",
       "</div>"
      ],
      "text/plain": [
       "   target  SVM  MLP\n",
       "1      68   59   71\n",
       "2      43   46   40\n",
       "3      52   63   59\n",
       "0      37   32   30"
      ]
     },
     "execution_count": 82,
     "metadata": {},
     "output_type": "execute_result"
    }
   ],
   "source": [
    "Compare={'target':Test_Proportion,'SVM':SVM_Proportion_multiple,'MLP':MLP_Proportion}\n",
    "Com_table=pd.DataFrame(Compare)\n",
    "Com_table.to_excel('./Diagram/Table3.xlsx')\n",
    "Com_table"
   ]
  },
  {
   "cell_type": "markdown",
   "id": "bf61f60a",
   "metadata": {},
   "source": [
    "    0 represents no tumor     \n",
    "    1 represents meningioma_tumor\n",
    "    2 represents glioma_tumor\n",
    "    3 represents pituitary_tumor"
   ]
  },
  {
   "cell_type": "code",
   "execution_count": null,
   "id": "9d8bbde6",
   "metadata": {},
   "outputs": [],
   "source": []
  }
 ],
 "metadata": {
  "kernelspec": {
   "display_name": "Python 3 (ipykernel)",
   "language": "python",
   "name": "python3"
  },
  "language_info": {
   "codemirror_mode": {
    "name": "ipython",
    "version": 3
   },
   "file_extension": ".py",
   "mimetype": "text/x-python",
   "name": "python",
   "nbconvert_exporter": "python",
   "pygments_lexer": "ipython3",
   "version": "3.7.11"
  },
  "varInspector": {
   "cols": {
    "lenName": 16,
    "lenType": 16,
    "lenVar": 40
   },
   "kernels_config": {
    "python": {
     "delete_cmd_postfix": "",
     "delete_cmd_prefix": "del ",
     "library": "var_list.py",
     "varRefreshCmd": "print(var_dic_list())"
    },
    "r": {
     "delete_cmd_postfix": ") ",
     "delete_cmd_prefix": "rm(",
     "library": "var_list.r",
     "varRefreshCmd": "cat(var_dic_list()) "
    }
   },
   "types_to_exclude": [
    "module",
    "function",
    "builtin_function_or_method",
    "instance",
    "_Feature"
   ],
   "window_display": false
  }
 },
 "nbformat": 4,
 "nbformat_minor": 5
}
