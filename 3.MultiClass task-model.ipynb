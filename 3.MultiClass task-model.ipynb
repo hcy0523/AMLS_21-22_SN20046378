{
 "cells": [
  {
   "cell_type": "markdown",
   "id": "eebfeaed",
   "metadata": {},
   "source": [
    "# 3.MultiClass task-model "
   ]
  },
  {
   "cell_type": "markdown",
   "id": "0d703179",
   "metadata": {},
   "source": [
    "### Import libraries\n",
    "The required libraries for this notebook are pandas, sklearn, copy, numpy, pickle and matplotlib.\n",
    "\n",
    "\n"
   ]
  },
  {
   "cell_type": "code",
   "execution_count": 23,
   "id": "46e606eb",
   "metadata": {},
   "outputs": [],
   "source": [
    "# import libraries\n",
    "import numpy as np\n",
    "import pandas as pd\n",
    "from collections import Counter\n",
    "import matplotlib.pyplot as plt\n",
    "from sklearn.utils import shuffle\n",
    "from sklearn.model_selection import train_test_split\n",
    "\n",
    "from sklearn.metrics import confusion_matrix, classification_report,accuracy_score\n",
    "\n",
    "from sklearn.preprocessing import MinMaxScaler\n",
    "from sklearn.preprocessing import StandardScaler\n",
    "\n",
    "from sklearn import svm\n",
    "import joblib"
   ]
  },
  {
   "cell_type": "markdown",
   "id": "bede97f9",
   "metadata": {},
   "source": [
    "### Load the data\n",
    "We are going to use the Brain Tumors dataset "
   ]
  },
  {
   "cell_type": "code",
   "execution_count": 24,
   "id": "311adb17",
   "metadata": {},
   "outputs": [],
   "source": [
    "data=pd.read_csv('./dataset/label.csv')\n",
    "df0=pd.DataFrame(data)"
   ]
  },
  {
   "cell_type": "code",
   "execution_count": 25,
   "id": "bcca1e96",
   "metadata": {},
   "outputs": [],
   "source": [
    "Data_reduced=np.load('Data_reduced.npy')"
   ]
  },
  {
   "cell_type": "code",
   "execution_count": 26,
   "id": "2aad2bcd",
   "metadata": {},
   "outputs": [
    {
     "name": "stdout",
     "output_type": "stream",
     "text": [
      "[1 0 1 ... 2 2 3]\n"
     ]
    }
   ],
   "source": [
    "Target=[]\n",
    "for tumor in df0.label:\n",
    "    if tumor == 'no_tumor':\n",
    "        Target.append(0)\n",
    "    elif tumor == 'meningioma_tumor':\n",
    "        Target.append(1)\n",
    "    elif tumor == 'glioma_tumor':\n",
    "        Target.append(2)\n",
    "    elif tumor == 'pituitary_tumor':\n",
    "        Target.append(3)\n",
    "Target = np.array(Target)\n",
    "print(Target)"
   ]
  },
  {
   "cell_type": "markdown",
   "id": "42475fe2",
   "metadata": {},
   "source": [
    "0 represents no tumor     \n",
    "\n",
    "1 represents meningioma_tumor\n",
    "\n",
    "2 represents glioma_tumor\n",
    "\n",
    "3 represents pituitary_tumor"
   ]
  },
  {
   "cell_type": "code",
   "execution_count": 27,
   "id": "58855032",
   "metadata": {},
   "outputs": [
    {
     "name": "stdout",
     "output_type": "stream",
     "text": [
      "Counter({2: 860, 1: 855, 3: 831, 0: 454})\n"
     ]
    }
   ],
   "source": [
    "counts=Counter(Target)\n",
    "print(counts)# show the distribution of sample"
   ]
  },
  {
   "cell_type": "markdown",
   "id": "e5946f5d",
   "metadata": {},
   "source": [
    "### Shuffle and split the data into training and test set"
   ]
  },
  {
   "cell_type": "code",
   "execution_count": 28,
   "id": "f1b577b1",
   "metadata": {
    "scrolled": true
   },
   "outputs": [],
   "source": [
    "Values= Data_reduced.copy()"
   ]
  },
  {
   "cell_type": "code",
   "execution_count": 29,
   "id": "c98f7e85",
   "metadata": {},
   "outputs": [],
   "source": [
    "Values, Target = shuffle(Values,Target)\n",
    "x_Train, x_Test, y_Train, y_Test = train_test_split(Values, Target, train_size=0.8, random_state=0)"
   ]
  },
  {
   "cell_type": "code",
   "execution_count": 30,
   "id": "661e8727",
   "metadata": {
    "scrolled": true
   },
   "outputs": [
    {
     "name": "stdout",
     "output_type": "stream",
     "text": [
      "(2400, 839) (600, 839) 2400 600\n",
      "Train set: 0.8  | Test set: 0.2\n"
     ]
    }
   ],
   "source": [
    "print(x_Train.shape, x_Test.shape, len(y_Train), len(y_Test))\n",
    "\n",
    "print('Train set: {}  | Test set: {}'.format(round(((len(y_Train)*1.0)/len(Values)),3),\n",
    "                                                       round((len(y_Test)*1.0)/len(Values),3)))"
   ]
  },
  {
   "cell_type": "code",
   "execution_count": 31,
   "id": "cf58a50d",
   "metadata": {},
   "outputs": [],
   "source": [
    "# Pre-process data\n",
    "scaler = MinMaxScaler() \n",
    "x_Train1 = scaler.fit_transform(x_Train)\n",
    "x_Test1 = scaler.transform(x_Test)\n",
    "scaler = StandardScaler()\n",
    "x_Train2 = scaler.fit_transform(x_Train)\n",
    "x_Test2 = scaler.transform(x_Test)"
   ]
  },
  {
   "cell_type": "markdown",
   "id": "8aa72823",
   "metadata": {},
   "source": [
    "> Scaling the data with MinMaxScaler or StandartScaler can basically get ready the data for the Machine Learning algorithm which can help converging."
   ]
  },
  {
   "cell_type": "code",
   "execution_count": null,
   "id": "d5bab6ba",
   "metadata": {},
   "outputs": [],
   "source": []
  },
  {
   "cell_type": "markdown",
   "id": "afd6bc10",
   "metadata": {},
   "source": [
    "### 1. Support Vector Machine (SVM)"
   ]
  },
  {
   "cell_type": "code",
   "execution_count": 33,
   "id": "dd9c568d",
   "metadata": {
    "scrolled": true
   },
   "outputs": [
    {
     "name": "stdout",
     "output_type": "stream",
     "text": [
      "[1 0 1 2 2 1 0 1 1 0 1 3 2 2 2 2 0 3 3 2 1 2 1 1 3 0 1 3 1 1 2 3 1 2 3 3 1\n",
      " 3 0 0 2 3 0 0 3 0 3 3 1 2 1 2 3 3 1 3 2 3 1 2 3 1 1 1 2 3 0 2 1 1 0 2 1 1\n",
      " 3 3 3 2 3 0 2 3 0 0 2 2 3 3 3 2 0 0 1 1 3 1 1 3 1 2 1 1 2 2 1 3 2 1 2 2 2\n",
      " 1 1 0 0 2 1 1 2 3 1 2 3 2 1 3 3 1 3 1 1 0 3 3 0 3 1 1 0 3 3 3 2 2 1 0 3 0\n",
      " 0 2 1 2 2 1 1 1 2 3 2 2 2 1 3 2 3 3 0 3 3 1 2 3 3 0 3 3 2 0 2 2 3 3 0 0 3\n",
      " 0 1 3 1 0 3 3 2 3 3 2 2 2 3 1 3 1 3 1 3 2 2 1 1 1 2 3 3 2 0 0 2 2 2 0 1 0\n",
      " 1 3 1 1 3 3 3 0 3 3 3 1 3 2 2 0 1 3 2 1 1 3 2 2 2 0 3 1 3 1 2 2 3 2 3 3 2\n",
      " 3 2 1 3 3 0 3 2 3 3 1 1 2 3 1 0 2 2 2 3 1 3 3 1 3 3 3 3 3 2 1 1 0 2 0 1 1\n",
      " 1 2 0 1 0 0 2 3 1 2 1 3 1 0 0 3 1 2 3 3 2 2 2 2 3 3 3 1 3 0 3 2 1 0 1 1 0\n",
      " 0 2 3 3 2 1 2 1 3 0 3 3 2 3 3 1 2 0 1 2 3 2 2 2 2 1 2 0 0 3 0 2 3 1 3 0 1\n",
      " 3 1 3 2 1 3 3 1 3 2 0 1 1 3 3 2 3 1 2 1 1 3 2 3 1 1 3 0 1 2 2 2 1 3 2 1 1\n",
      " 3 1 1 3 0 1 2 0 0 2 3 1 1 2 2 3 3 1 3 2 1 1 2 3 3 2 1 3 3 1 1 1 1 2 0 2 1\n",
      " 2 1 1 3 2 3 2 1 1 1 3 3 0 3 2 2 2 3 2 1 1 1 3 1 1 2 1 2 1 0 2 3 2 3 1 2 1\n",
      " 1 1 1 2 2 0 2 1 3 1 2 3 0 2 1 1 2 3 3 3 3 2 1 1 2 3 2 3 1 2 3 3 2 2 1 1 3\n",
      " 2 1 2 2 1 0 1 0 1 1 2 0 2 3 0 3 2 3 0 3 2 2 3 1 3 1 2 3 3 1 3 2 0 3 1 3 3\n",
      " 3 0 3 0 3 2 3 1 2 3 1 1 2 3 1 2 2 0 1 2 3 1 3 2 2 1 2 1 2 2 1 3 2 1 2 1 2\n",
      " 2 2 3 2 3 3 2 1]\n",
      "Support Vector Machine Accuracy: 0.8516666666666667\n"
     ]
    }
   ],
   "source": [
    "def img_SVM(x_Train, y_Train, x_Test, y_Test):\n",
    "    SVM_class = svm.SVC(kernel='rbf')\n",
    "\n",
    "    SVM_class.fit(x_Train, y_Train)\n",
    "\n",
    "    pred_SVM = SVM_class.predict(x_Test)\n",
    "    joblib.dump(SVM_class, './model/SVM_multiple.m')\n",
    "    print(pred_SVM)\n",
    "\n",
    "    print(\"Support Vector Machine Accuracy:\", accuracy_score(y_Test, pred_SVM))\n",
    "    return pred_SVM\n",
    "pred_SVM=img_SVM(x_Train, y_Train, x_Test, y_Test)"
   ]
  },
  {
   "cell_type": "code",
   "execution_count": 34,
   "id": "f27e5fe9",
   "metadata": {},
   "outputs": [],
   "source": [
    "SVM = joblib.load('./model/SVM_multiple.m')"
   ]
  },
  {
   "cell_type": "code",
   "execution_count": null,
   "id": "36c1e450",
   "metadata": {},
   "outputs": [],
   "source": []
  },
  {
   "cell_type": "code",
   "execution_count": 35,
   "id": "2f32cb4f",
   "metadata": {},
   "outputs": [
    {
     "name": "stdout",
     "output_type": "stream",
     "text": [
      "Counter({2: 186, 3: 172, 1: 162, 0: 80})\n"
     ]
    }
   ],
   "source": [
    "Test_Proportion=Counter(y_Test)\n",
    "print(Test_Proportion)"
   ]
  },
  {
   "cell_type": "code",
   "execution_count": 36,
   "id": "b326959b",
   "metadata": {},
   "outputs": [
    {
     "name": "stdout",
     "output_type": "stream",
     "text": [
      "Counter({3: 183, 1: 172, 2: 168, 0: 77})\n"
     ]
    }
   ],
   "source": [
    "SVM_Proportion=Counter(pred_SVM)\n",
    "print(SVM_Proportion)"
   ]
  },
  {
   "cell_type": "code",
   "execution_count": 37,
   "id": "0f3120f3",
   "metadata": {},
   "outputs": [
    {
     "data": {
      "text/html": [
       "<div>\n",
       "<style scoped>\n",
       "    .dataframe tbody tr th:only-of-type {\n",
       "        vertical-align: middle;\n",
       "    }\n",
       "\n",
       "    .dataframe tbody tr th {\n",
       "        vertical-align: top;\n",
       "    }\n",
       "\n",
       "    .dataframe thead th {\n",
       "        text-align: right;\n",
       "    }\n",
       "</style>\n",
       "<table border=\"1\" class=\"dataframe\">\n",
       "  <thead>\n",
       "    <tr style=\"text-align: right;\">\n",
       "      <th></th>\n",
       "      <th>Target</th>\n",
       "      <th>SVM</th>\n",
       "    </tr>\n",
       "  </thead>\n",
       "  <tbody>\n",
       "    <tr>\n",
       "      <th>1</th>\n",
       "      <td>162</td>\n",
       "      <td>172</td>\n",
       "    </tr>\n",
       "    <tr>\n",
       "      <th>0</th>\n",
       "      <td>80</td>\n",
       "      <td>77</td>\n",
       "    </tr>\n",
       "    <tr>\n",
       "      <th>2</th>\n",
       "      <td>186</td>\n",
       "      <td>168</td>\n",
       "    </tr>\n",
       "    <tr>\n",
       "      <th>3</th>\n",
       "      <td>172</td>\n",
       "      <td>183</td>\n",
       "    </tr>\n",
       "  </tbody>\n",
       "</table>\n",
       "</div>"
      ],
      "text/plain": [
       "   Target  SVM\n",
       "1     162  172\n",
       "0      80   77\n",
       "2     186  168\n",
       "3     172  183"
      ]
     },
     "execution_count": 37,
     "metadata": {},
     "output_type": "execute_result"
    }
   ],
   "source": [
    "Compare={'Target':Test_Proportion,'SVM':SVM_Proportion}\n",
    "Com_table=pd.DataFrame(Compare)\n",
    "Com_table"
   ]
  },
  {
   "cell_type": "markdown",
   "id": "1726fa9e",
   "metadata": {},
   "source": [
    "## !!!!Contents below don't included in the paper!!!!"
   ]
  },
  {
   "cell_type": "code",
   "execution_count": 35,
   "id": "bcb66c22",
   "metadata": {},
   "outputs": [],
   "source": [
    "from sklearn.linear_model import LogisticRegressionCV\n",
    "from sklearn.neighbors import KNeighborsClassifier\n",
    "from sklearn import metrics\n",
    "from sklearn import tree\n",
    "from sklearn.ensemble import RandomForestClassifier\n",
    "from sklearn.ensemble import BaggingClassifier\n",
    "from sklearn.ensemble import AdaBoostClassifier"
   ]
  },
  {
   "cell_type": "markdown",
   "id": "6218b473",
   "metadata": {},
   "source": [
    "### 2.Logistic Regression"
   ]
  },
  {
   "cell_type": "code",
   "execution_count": 38,
   "id": "5d3f50fb",
   "metadata": {
    "scrolled": true
   },
   "outputs": [
    {
     "name": "stderr",
     "output_type": "stream",
     "text": [
      "D:\\ProgramData\\Anaconda3\\envs\\Assign\\lib\\site-packages\\sklearn\\linear_model\\_logistic.py:818: ConvergenceWarning: lbfgs failed to converge (status=1):\n",
      "STOP: TOTAL NO. of ITERATIONS REACHED LIMIT.\n",
      "\n",
      "Increase the number of iterations (max_iter) or scale the data as shown in:\n",
      "    https://scikit-learn.org/stable/modules/preprocessing.html\n",
      "Please also refer to the documentation for alternative solver options:\n",
      "    https://scikit-learn.org/stable/modules/linear_model.html#logistic-regression\n",
      "  extra_warning_msg=_LOGISTIC_SOLVER_CONVERGENCE_MSG,\n",
      "D:\\ProgramData\\Anaconda3\\envs\\Assign\\lib\\site-packages\\sklearn\\linear_model\\_logistic.py:818: ConvergenceWarning: lbfgs failed to converge (status=1):\n",
      "STOP: TOTAL NO. of ITERATIONS REACHED LIMIT.\n",
      "\n",
      "Increase the number of iterations (max_iter) or scale the data as shown in:\n",
      "    https://scikit-learn.org/stable/modules/preprocessing.html\n",
      "Please also refer to the documentation for alternative solver options:\n",
      "    https://scikit-learn.org/stable/modules/linear_model.html#logistic-regression\n",
      "  extra_warning_msg=_LOGISTIC_SOLVER_CONVERGENCE_MSG,\n",
      "D:\\ProgramData\\Anaconda3\\envs\\Assign\\lib\\site-packages\\sklearn\\linear_model\\_logistic.py:818: ConvergenceWarning: lbfgs failed to converge (status=1):\n",
      "STOP: TOTAL NO. of ITERATIONS REACHED LIMIT.\n",
      "\n",
      "Increase the number of iterations (max_iter) or scale the data as shown in:\n",
      "    https://scikit-learn.org/stable/modules/preprocessing.html\n",
      "Please also refer to the documentation for alternative solver options:\n",
      "    https://scikit-learn.org/stable/modules/linear_model.html#logistic-regression\n",
      "  extra_warning_msg=_LOGISTIC_SOLVER_CONVERGENCE_MSG,\n",
      "D:\\ProgramData\\Anaconda3\\envs\\Assign\\lib\\site-packages\\sklearn\\linear_model\\_logistic.py:818: ConvergenceWarning: lbfgs failed to converge (status=1):\n",
      "STOP: TOTAL NO. of ITERATIONS REACHED LIMIT.\n",
      "\n",
      "Increase the number of iterations (max_iter) or scale the data as shown in:\n",
      "    https://scikit-learn.org/stable/modules/preprocessing.html\n",
      "Please also refer to the documentation for alternative solver options:\n",
      "    https://scikit-learn.org/stable/modules/linear_model.html#logistic-regression\n",
      "  extra_warning_msg=_LOGISTIC_SOLVER_CONVERGENCE_MSG,\n",
      "D:\\ProgramData\\Anaconda3\\envs\\Assign\\lib\\site-packages\\sklearn\\linear_model\\_logistic.py:818: ConvergenceWarning: lbfgs failed to converge (status=1):\n",
      "STOP: TOTAL NO. of ITERATIONS REACHED LIMIT.\n",
      "\n",
      "Increase the number of iterations (max_iter) or scale the data as shown in:\n",
      "    https://scikit-learn.org/stable/modules/preprocessing.html\n",
      "Please also refer to the documentation for alternative solver options:\n",
      "    https://scikit-learn.org/stable/modules/linear_model.html#logistic-regression\n",
      "  extra_warning_msg=_LOGISTIC_SOLVER_CONVERGENCE_MSG,\n"
     ]
    },
    {
     "name": "stdout",
     "output_type": "stream",
     "text": [
      "[1 2 1 0 0 3 3 2 1 2 2 2 0 3 3 2 0 0 2 3 2 1 2 0 3 1 1 3 3 2 2 3 0 0 1 1 1\n",
      " 2 0 2 3 3 3 1 0 1 1 3 1 3 3 1 3 2 2 3 1 1 2 3 1 2 2 2 0 1 2 0 1 1 2 3 1 2\n",
      " 2 1 1 0 1 3 3 2 0 1 3 2 1 3 1 2 2 3 3 3 0 2 1 2 2 1 3 3 2 2 3 3 3 3 0 3 3\n",
      " 1 1 0 3 2 3 1 1 3 3 3 2 0 2 2 1 1 0 3 1 3 0 1 3 2 0 3 2 1 1 2 1 1 3 1 0 3\n",
      " 1 1 0 2 3 3 3 1 3 0 3 1 1 1 2 1 1 1 2 1 1 0 0 2 3 2 3 0 2 1 1 3 1 2 0 1 2\n",
      " 2 1 3 0 3 3 0 0 3 1 3 2 2 3 2 3 2 3 2 2 3 3 3 3 2 2 1 3 2 3 1 2 2 3 1 1 2\n",
      " 1 1 0 3 3 2 1 2 1 2 3 0 2 2 1 3 1 1 3 0 2 1 0 3 2 2 1 2 2 2 3 0 1 2 2 1 2\n",
      " 2 3 2 2 0 2 1 1 1 3 3 2 3 1 2 1 3 2 3 3 1 2 3 2 1 0 0 2 2 0 3 3 3 1 0 3 2\n",
      " 2 3 3 0 0 1 1 2 3 3 0 3 1 3 3 1 1 2 1 1 3 2 1 2 3 2 1 3 1 2 0 2 2 3 3 0 2\n",
      " 1 1 0 1 2 0 2 1 3 0 1 1 1 2 0 3 2 3 2 1 3 1 3 3 2 1 2 3 3 1 3 3 3 0 2 0 3\n",
      " 0 3 1 2 3 2 2 2 3 2 1 2 3 2 2 0 2 1 2 2 2 3 1 1 1 2 3 1 2 3 3 0 3 2 2 1 1\n",
      " 3 2 0 2 1 2 2 2 3 1 2 2 1 2 3 2 3 2 0 2 2 3 2 1 1 2 1 0 3 1 2 3 1 3 3 0 2\n",
      " 2 1 2 2 0 0 2 3 3 1 1 1 1 1 0 1 2 0 2 1 2 1 2 2 3 2 3 2 2 3 0 3 0 1 2 2 2\n",
      " 1 1 1 0 3 1 2 2 3 1 3 1 0 2 1 1 3 3 3 1 2 3 3 2 1 3 1 2 2 1 1 1 1 2 1 0 3\n",
      " 3 2 1 3 2 2 2 1 0 1 2 1 2 3 1 1 3 1 2 1 2 3 3 2 2 0 1 3 2 1 2 2 3 0 1 1 3\n",
      " 2 1 1 0 3 0 3 2 1 3 0 0 0 3 3 3 1 3 3 3 2 2 1 3 1 1 2 2 3 3 1 2 2 1 1 2 3\n",
      " 2 1 2 0 3 0 3 3]\n",
      "[[ 66  11   9   1]\n",
      " [  6 122  32   2]\n",
      " [  4  31 133   2]\n",
      " [  2   5   9 165]]\n",
      "Logistic Regression Accuracy on test set: 0.81\n",
      "              precision    recall  f1-score   support\n",
      "\n",
      "           0       0.85      0.76      0.80        87\n",
      "           1       0.72      0.75      0.74       162\n",
      "           2       0.73      0.78      0.75       170\n",
      "           3       0.97      0.91      0.94       181\n",
      "\n",
      "    accuracy                           0.81       600\n",
      "   macro avg       0.82      0.80      0.81       600\n",
      "weighted avg       0.82      0.81      0.81       600\n",
      "\n"
     ]
    }
   ],
   "source": [
    "def logRegrPredict(x_Train, y_Train,x_Test ):\n",
    "    # Build Logistic Regression Model\n",
    "    log_reg = LogisticRegressionCV(max_iter = 500)\n",
    "    # Train the model using the training sets\n",
    "    log_reg.fit(x_Train, y_Train)\n",
    "    y_pred= log_reg.predict(x_Test)\n",
    "    return y_pred\n",
    "\n",
    "y_pred_logRegr = logRegrPredict(x_Train2, y_Train,x_Test2)\n",
    "print(y_pred_logRegr)\n",
    "# By definition a confusion matrix C is such that C_{i,j} \n",
    "# is equal to  group the number of observations\n",
    "#  known to be in i and predicted to be in group j.\n",
    "print(confusion_matrix(y_Test, y_pred_logRegr))\n",
    "print('Logistic Regression Accuracy on test set: '+str(accuracy_score(y_Test,y_pred_logRegr)))\n",
    "print(classification_report(y_Test,y_pred_logRegr))"
   ]
  },
  {
   "cell_type": "code",
   "execution_count": null,
   "id": "5097e5bf",
   "metadata": {},
   "outputs": [],
   "source": []
  },
  {
   "cell_type": "markdown",
   "id": "06444dde",
   "metadata": {},
   "source": [
    "### 3.K-Nearest Neighbours"
   ]
  },
  {
   "cell_type": "code",
   "execution_count": 17,
   "id": "e2f271a1",
   "metadata": {},
   "outputs": [],
   "source": [
    "def KNNClassifier(X_Train, y_Train, X_Test,k):\n",
    "\n",
    "    #Create KNN object with a K coefficient\n",
    "    neigh = KNeighborsClassifier(n_neighbors=k)\n",
    "    neigh.fit(X_Train, y_Train) # Fit KNN model\n",
    "\n",
    "\n",
    "    Y_pred_KNN = neigh.predict(X_Test)\n",
    "    return Y_pred_KNN"
   ]
  },
  {
   "cell_type": "code",
   "execution_count": 18,
   "id": "8f7b6a90",
   "metadata": {},
   "outputs": [],
   "source": [
    "score_list=[]\n",
    "\n",
    "for i in range(1,36):\n",
    "    knn = KNeighborsClassifier(n_neighbors=i)\n",
    "    knn.fit(x_Train,y_Train)\n",
    "    pred_i_KNN  = knn.predict(x_Test)\n",
    "    score_list.append(metrics.accuracy_score(y_Test,pred_i_KNN ))"
   ]
  },
  {
   "cell_type": "code",
   "execution_count": 19,
   "id": "a80d464d",
   "metadata": {
    "scrolled": true
   },
   "outputs": [
    {
     "data": {
      "image/png": "[encoded data removed]",
      "text/plain": [
       "<Figure size 432x288 with 1 Axes>"
      ]
     },
     "metadata": {
      "needs_background": "light"
     },
     "output_type": "display_data"
    }
   ],
   "source": [
    "plt.plot(range(1,36),score_list,color='pink', linestyle='dashed', marker='o', markerfacecolor='grey',markersize=10)\n",
    "plt.title(\"Accuracy vs. K Value\")\n",
    "plt.xlabel(\"K\")\n",
    "plt.ylabel(\"Accuracy\")\n",
    "plt.show()"
   ]
  },
  {
   "cell_type": "code",
   "execution_count": 20,
   "id": "bdc0d8b9",
   "metadata": {},
   "outputs": [],
   "source": [
    "#high_score=score_list.index(np.max(score_list))+1"
   ]
  },
  {
   "cell_type": "code",
   "execution_count": 21,
   "id": "f7f80b9c",
   "metadata": {},
   "outputs": [
    {
     "name": "stdout",
     "output_type": "stream",
     "text": [
      "K-Nearest Neighbours Accuracy on test set: 0.795\n"
     ]
    }
   ],
   "source": [
    "y_pred_KNN = KNNClassifier(x_Train2, y_Train, x_Test2,1)\n",
    "\n",
    "score=metrics.accuracy_score(y_Test,y_pred_KNN)\n",
    "print('K-Nearest Neighbours Accuracy on test set:',score)"
   ]
  },
  {
   "cell_type": "code",
   "execution_count": null,
   "id": "168b6bf9",
   "metadata": {},
   "outputs": [],
   "source": []
  },
  {
   "cell_type": "markdown",
   "id": "0d9d9dd2",
   "metadata": {},
   "source": [
    "### 4.Decision Tree "
   ]
  },
  {
   "cell_type": "code",
   "execution_count": 22,
   "id": "68bca958",
   "metadata": {},
   "outputs": [
    {
     "name": "stdout",
     "output_type": "stream",
     "text": [
      "Decision Tree Accuracy Score on train data:  1.0\n",
      "Decision Tree Accuracy Score on test data:  0.7133333333333334\n"
     ]
    }
   ],
   "source": [
    "#Importing the Decision tree classifier from the sklearn library.\n",
    "tree_params={\n",
    "    'criterion':'entropy'\n",
    "}\n",
    "DT = tree.DecisionTreeClassifier( **tree_params )\n",
    "DT.fit(x_Train,y_Train)\n",
    "y_pred_tree =  DT.predict(x_Test)\n",
    "\n",
    "\n",
    "print('Decision Tree Accuracy Score on train data: ', accuracy_score(y_true=y_Train, y_pred=DT.predict(x_Train)))\n",
    "print('Decision Tree Accuracy Score on test data: ', accuracy_score(y_true=y_Test, y_pred=y_pred_tree))"
   ]
  },
  {
   "cell_type": "code",
   "execution_count": 23,
   "id": "d37e7f20",
   "metadata": {},
   "outputs": [],
   "source": [
    "# list=range(values.shape[1])\n",
    "# it=iter(list)\n",
    "# feature_names=np.fromiter(it, dtype=float)\n",
    "# class_names=np.array(['NO_Tumor', 'Tumor'], dtype='<U10')"
   ]
  },
  {
   "cell_type": "code",
   "execution_count": 24,
   "id": "e91dd891",
   "metadata": {},
   "outputs": [],
   "source": [
    "#  def visualise_tree(tree_to_print):\n",
    "#     plt.figure()\n",
    "#     fig, axes = plt.subplots(nrows = 1,ncols = 1,figsize = (10,10), dpi=800)\n",
    "#     tree.plot_tree(tree_to_print,feature_names,class_names,filled = True,rounded=True);\n",
    "#     plt.show()\n",
    "# visualise_tree(clf)\n"
   ]
  },
  {
   "cell_type": "code",
   "execution_count": 25,
   "id": "211dc789",
   "metadata": {},
   "outputs": [
    {
     "name": "stdout",
     "output_type": "stream",
     "text": [
      "Accuracy Score on train data:  1.0\n",
      "Accuracy Score on the test data:  0.7166666666666667\n"
     ]
    }
   ],
   "source": [
    "tree_params={\n",
    "    'criterion': 'entropy',\n",
    "    'min_samples_split':30\n",
    "}\n",
    "lf = tree.DecisionTreeClassifier(**tree_params)\n",
    "DT.fit(x_Train, y_Train)\n",
    "print('Accuracy Score on train data: ', accuracy_score(y_true=y_Train, y_pred=DT.predict(x_Train)))\n",
    "print('Accuracy Score on the test data: ', accuracy_score(y_true=y_Test, y_pred=DT.predict(x_Test)))"
   ]
  },
  {
   "cell_type": "markdown",
   "id": "d256b806",
   "metadata": {},
   "source": [
    "### 5. Ensemble Methods"
   ]
  },
  {
   "cell_type": "code",
   "execution_count": 26,
   "id": "02cd0a49",
   "metadata": {},
   "outputs": [],
   "source": [
    "def baggingClassifierML(X_train, y_train, X_test,k):\n",
    "\n",
    "    bagmodel=BaggingClassifier(n_estimators=k,max_samples=0.5, \n",
    "                               bootstrap=True,n_jobs= -1,random_state=1)\n",
    "    bagmodel.fit(X_train, y_train) \n",
    "\n",
    "    Y_pred = bagmodel.predict(X_test)\n",
    "    return Y_pred"
   ]
  },
  {
   "cell_type": "code",
   "execution_count": null,
   "id": "8091e936",
   "metadata": {},
   "outputs": [],
   "source": [
    "Y_pred_bagging=baggingClassifierML(x_Train, y_Train, x_Test,10)\n",
    "score_bagging=metrics.accuracy_score(y_Test,Y_pred_bagging)\n",
    "print(score_bagging)"
   ]
  },
  {
   "cell_type": "code",
   "execution_count": null,
   "id": "f4c29e96",
   "metadata": {},
   "outputs": [],
   "source": [
    "def boostingClassifierML(x_train, y_train, x_test,k):\n",
    "    # AdaBoost takes Decision Tree as its base-estimator model by default.\n",
    "    boostmodel=AdaBoostClassifier(n_estimators=k,algorithm='SAMME.R',learning_rate=0.5)\n",
    "    boostmodel.fit(x_train , y_train,sample_weight=None) # Fit KNN model\n",
    "\n",
    "\n",
    "    Y_pred = boostmodel.predict(x_test)\n",
    "    #print (Y_pred)\n",
    "    return Y_pred"
   ]
  },
  {
   "cell_type": "code",
   "execution_count": null,
   "id": "c2b9d6ed",
   "metadata": {},
   "outputs": [],
   "source": [
    "score_list=[]\n",
    "\n",
    "for i in range(1,25):\n",
    "    Y_pred_boosting_i=boostingClassifierML(x_Train2, y_Train, x_Test2, i)\n",
    "    score_list.append(metrics.accuracy_score(y_Test,Y_pred_boosting_i))"
   ]
  },
  {
   "cell_type": "code",
   "execution_count": null,
   "id": "e7d0a326",
   "metadata": {},
   "outputs": [],
   "source": [
    "plt.plot(range(1,25),score_list,color='pink', linestyle='dashed', marker='o', markerfacecolor='grey',markersize=10)\n",
    "plt.title(\"Accuracy vs. K Value\")\n",
    "plt.xlabel(\"K\")\n",
    "plt.ylabel(\"Accuracy\")\n",
    "plt.show()"
   ]
  },
  {
   "cell_type": "code",
   "execution_count": null,
   "id": "5aaa77dc",
   "metadata": {},
   "outputs": [],
   "source": [
    "#high_score=score_list.index(np.max(score_list))+1"
   ]
  },
  {
   "cell_type": "code",
   "execution_count": null,
   "id": "e494acc8",
   "metadata": {},
   "outputs": [],
   "source": [
    "Y_pred_boosting=boostingClassifierML(x_Train2, y_Train, x_Test2, 200)\n",
    "score_boosting=metrics.accuracy_score(y_Test,Y_pred_boosting)\n",
    "print(score_boosting)"
   ]
  },
  {
   "cell_type": "code",
   "execution_count": null,
   "id": "3fe5f923",
   "metadata": {},
   "outputs": [],
   "source": []
  }
 ],
 "metadata": {
  "kernelspec": {
   "display_name": "Python 3 (ipykernel)",
   "language": "python",
   "name": "python3"
  },
  "language_info": {
   "codemirror_mode": {
    "name": "ipython",
    "version": 3
   },
   "file_extension": ".py",
   "mimetype": "text/x-python",
   "name": "python",
   "nbconvert_exporter": "python",
   "pygments_lexer": "ipython3",
   "version": "3.7.11"
  },
  "varInspector": {
   "cols": {
    "lenName": 16,
    "lenType": 16,
    "lenVar": 40
   },
   "kernels_config": {
    "python": {
     "delete_cmd_postfix": "",
     "delete_cmd_prefix": "del ",
     "library": "var_list.py",
     "varRefreshCmd": "print(var_dic_list())"
    },
    "r": {
     "delete_cmd_postfix": ") ",
     "delete_cmd_prefix": "rm(",
     "library": "var_list.r",
     "varRefreshCmd": "cat(var_dic_list()) "
    }
   },
   "types_to_exclude": [
    "module",
    "function",
    "builtin_function_or_method",
    "instance",
    "_Feature"
   ],
   "window_display": false
  }
 },
 "nbformat": 4,
 "nbformat_minor": 5
}
