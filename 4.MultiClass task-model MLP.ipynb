{
 "cells": [
  {
   "cell_type": "markdown",
   "id": "eebfeaed",
   "metadata": {},
   "source": [
    "# 4MultiClass task-model MLP"
   ]
  },
  {
   "cell_type": "markdown",
   "id": "0d703179",
   "metadata": {},
   "source": [
    "### Import libraries\n",
    "The required libraries for this notebook are pandas, sklearn, copy, numpy, pickle and matplotlib.\n",
    "\n",
    "\n"
   ]
  },
  {
   "cell_type": "code",
   "execution_count": 90,
   "id": "46e606eb",
   "metadata": {},
   "outputs": [],
   "source": [
    "# import libraries\n",
    "import numpy as np\n",
    "import pandas as pd\n",
    "import matplotlib.pyplot as plt\n",
    "\n",
    "from sklearn.utils import shuffle\n",
    "from sklearn.model_selection import train_test_split\n",
    "\n",
    "from sklearn.metrics import confusion_matrix, classification_report,accuracy_score\n",
    "\n",
    "from sklearn.preprocessing import MinMaxScaler\n",
    "from sklearn.preprocessing import StandardScaler\n",
    "\n",
    "import tensorflow as tf\n",
    "from sklearn import metrics"
   ]
  },
  {
   "cell_type": "markdown",
   "id": "bede97f9",
   "metadata": {},
   "source": [
    "### Load the data\n",
    "We are going to use the Brain Tumors dataset "
   ]
  },
  {
   "cell_type": "code",
   "execution_count": 2,
   "id": "311adb17",
   "metadata": {},
   "outputs": [],
   "source": [
    "data=pd.read_csv('./dataset/label.csv')\n",
    "df0=pd.DataFrame(data)"
   ]
  },
  {
   "cell_type": "code",
   "execution_count": 3,
   "id": "50ee8fd7",
   "metadata": {},
   "outputs": [],
   "source": [
    "Data_reduced=np.load('Data_reduced.npy')"
   ]
  },
  {
   "cell_type": "markdown",
   "id": "e5946f5d",
   "metadata": {},
   "source": [
    "### Shuffle and split the data into training and test set"
   ]
  },
  {
   "cell_type": "code",
   "execution_count": 4,
   "id": "f1b577b1",
   "metadata": {
    "scrolled": true
   },
   "outputs": [],
   "source": [
    "Values= Data_reduced.copy()"
   ]
  },
  {
   "cell_type": "code",
   "execution_count": 5,
   "id": "2aad2bcd",
   "metadata": {},
   "outputs": [
    {
     "name": "stdout",
     "output_type": "stream",
     "text": [
      "[1 0 1 ... 2 2 3]\n"
     ]
    }
   ],
   "source": [
    "Target=[]\n",
    "for tumor in df0.label:\n",
    "    if tumor == 'no_tumor':\n",
    "        Target.append(0)\n",
    "    elif tumor == 'meningioma_tumor':\n",
    "        Target.append(1)\n",
    "    elif tumor == 'glioma_tumor':\n",
    "        Target.append(2)\n",
    "    elif tumor == 'pituitary_tumor':\n",
    "        Target.append(3)\n",
    "Target = np.array(Target)\n",
    "print(Target)\n",
    "#pd.DataFrame(Target).to_csv('Target.csv')"
   ]
  },
  {
   "cell_type": "markdown",
   "id": "607162c6",
   "metadata": {},
   "source": [
    "0 represents no tumor   \n",
    "\n",
    "1 represents meningioma_tumor\n",
    "\n",
    "2 represents glioma_tumor\n",
    "\n",
    "3 represents pituitary_tumor"
   ]
  },
  {
   "cell_type": "code",
   "execution_count": 6,
   "id": "c98f7e85",
   "metadata": {},
   "outputs": [],
   "source": [
    "Values, Target = shuffle(Values,Target)\n",
    "x_Train, x_Test, y_Train, y_Test = train_test_split(Values, Target, train_size=0.8, random_state=0)"
   ]
  },
  {
   "cell_type": "code",
   "execution_count": 7,
   "id": "661e8727",
   "metadata": {
    "scrolled": true
   },
   "outputs": [
    {
     "name": "stdout",
     "output_type": "stream",
     "text": [
      "(2400, 839) (600, 839) 2400 600\n",
      "Train set: 0.8  | Test set: 0.2\n"
     ]
    }
   ],
   "source": [
    "print(x_Train.shape, x_Test.shape, len(y_Train), len(y_Test))\n",
    "\n",
    "print('Train set: {}  | Test set: {}'.format(round(((len(y_Train)*1.0)/len(Values)),3),\n",
    "                                                       round((len(y_Test)*1.0)/len(Values),3)))"
   ]
  },
  {
   "cell_type": "markdown",
   "id": "632ff221",
   "metadata": {},
   "source": [
    "### Multiple Classification: Multi-layer Perceptron classifier"
   ]
  },
  {
   "cell_type": "code",
   "execution_count": 113,
   "id": "e1ef341c",
   "metadata": {},
   "outputs": [],
   "source": [
    "# Pre-process data\n",
    "scaler = MinMaxScaler() # This estimator scales and translates each feature individually such that it is in the given range on the training set, default between(0,1)\n",
    "x_Train1 = scaler.fit_transform(x_Train)\n",
    "x_Test1 = scaler.transform(x_Test)\n",
    "scaler = StandardScaler()\n",
    "x_Train2 = scaler.fit_transform(x_Train)\n",
    "x_Test2 = scaler.transform(x_Test)"
   ]
  },
  {
   "cell_type": "code",
   "execution_count": 148,
   "id": "ebbab458",
   "metadata": {},
   "outputs": [],
   "source": [
    "model = tf.keras.models.Sequential([\n",
    "    tf.keras.layers.Flatten(input_shape=[x_Train.shape[1]]),\n",
    "    tf.keras.layers.Dropout(0.2),\n",
    "    tf.keras.layers.Dense(256, activation='relu'),\n",
    "    tf.keras.layers.Dropout(0.2),\n",
    "    tf.keras.layers.Dense(256, activation='relu'),\n",
    "    tf.keras.layers.Dropout(0.2),\n",
    "    tf.keras.layers.Dense(4, activation='softmax',kernel_regularizer = tf.keras.regularizers.l2(0.01))])"
   ]
  },
  {
   "cell_type": "code",
   "execution_count": 149,
   "id": "d6c0f830",
   "metadata": {
    "scrolled": false
   },
   "outputs": [],
   "source": [
    "model.compile(loss=tf.keras.losses.SparseCategoricalCrossentropy(from_logits=False),\n",
    "              optimizer=tf.keras.optimizers.SGD(learning_rate=0.5),\n",
    "              metrics=['accuracy'])\n"
   ]
  },
  {
   "cell_type": "code",
   "execution_count": 150,
   "id": "0034beb8",
   "metadata": {
    "scrolled": false
   },
   "outputs": [
    {
     "name": "stdout",
     "output_type": "stream",
     "text": [
      "Train on 2400 samples, validate on 600 samples\n",
      "Epoch 1/100\n",
      "2400/2400 [==============================] - 0s 143us/sample - loss: 2.2600 - accuracy: 0.2862 - val_loss: 1.3957 - val_accuracy: 0.4100\n",
      "Epoch 2/100\n",
      "2400/2400 [==============================] - 0s 18us/sample - loss: 1.3614 - accuracy: 0.3950 - val_loss: 1.3255 - val_accuracy: 0.4417\n",
      "Epoch 3/100\n",
      "2400/2400 [==============================] - 0s 18us/sample - loss: 1.2454 - accuracy: 0.4975 - val_loss: 1.1904 - val_accuracy: 0.5533\n",
      "Epoch 4/100\n",
      "2400/2400 [==============================] - 0s 17us/sample - loss: 1.0871 - accuracy: 0.5896 - val_loss: 1.0328 - val_accuracy: 0.6250\n",
      "Epoch 5/100\n",
      "2400/2400 [==============================] - 0s 18us/sample - loss: 0.9014 - accuracy: 0.6708 - val_loss: 0.8750 - val_accuracy: 0.6933\n",
      "Epoch 6/100\n",
      "2400/2400 [==============================] - 0s 19us/sample - loss: 0.6612 - accuracy: 0.7783 - val_loss: 0.7398 - val_accuracy: 0.7450\n",
      "Epoch 7/100\n",
      "2400/2400 [==============================] - 0s 18us/sample - loss: 0.4848 - accuracy: 0.8458 - val_loss: 0.6572 - val_accuracy: 0.7583\n",
      "Epoch 8/100\n",
      "2400/2400 [==============================] - 0s 19us/sample - loss: 0.3658 - accuracy: 0.8904 - val_loss: 0.6041 - val_accuracy: 0.7850\n",
      "Epoch 9/100\n",
      "2400/2400 [==============================] - 0s 18us/sample - loss: 0.3120 - accuracy: 0.9187 - val_loss: 0.7140 - val_accuracy: 0.7567\n",
      "Epoch 10/100\n",
      "2400/2400 [==============================] - 0s 16us/sample - loss: 0.2957 - accuracy: 0.9229 - val_loss: 0.6481 - val_accuracy: 0.8033\n",
      "Epoch 11/100\n",
      "2400/2400 [==============================] - 0s 17us/sample - loss: 0.2622 - accuracy: 0.9337 - val_loss: 0.5894 - val_accuracy: 0.8233\n",
      "Epoch 12/100\n",
      "2400/2400 [==============================] - 0s 17us/sample - loss: 0.2127 - accuracy: 0.9450 - val_loss: 0.5999 - val_accuracy: 0.8133\n",
      "Epoch 13/100\n",
      "2400/2400 [==============================] - 0s 16us/sample - loss: 0.1955 - accuracy: 0.9571 - val_loss: 0.6151 - val_accuracy: 0.8133\n",
      "Epoch 14/100\n",
      "2400/2400 [==============================] - 0s 18us/sample - loss: 0.1917 - accuracy: 0.9583 - val_loss: 0.7256 - val_accuracy: 0.7683\n",
      "Epoch 15/100\n",
      "2400/2400 [==============================] - 0s 16us/sample - loss: 0.1800 - accuracy: 0.9542 - val_loss: 0.6165 - val_accuracy: 0.8333\n",
      "Epoch 16/100\n",
      "2400/2400 [==============================] - 0s 17us/sample - loss: 0.1675 - accuracy: 0.9604 - val_loss: 0.6029 - val_accuracy: 0.8317\n",
      "Epoch 17/100\n",
      "2400/2400 [==============================] - 0s 17us/sample - loss: 0.1400 - accuracy: 0.9688 - val_loss: 0.6054 - val_accuracy: 0.8283\n",
      "Epoch 18/100\n",
      "2400/2400 [==============================] - 0s 17us/sample - loss: 0.1452 - accuracy: 0.9650 - val_loss: 0.5883 - val_accuracy: 0.8200\n",
      "Epoch 19/100\n",
      "2400/2400 [==============================] - 0s 17us/sample - loss: 0.1296 - accuracy: 0.9704 - val_loss: 0.5764 - val_accuracy: 0.8317\n",
      "Epoch 20/100\n",
      "2400/2400 [==============================] - 0s 17us/sample - loss: 0.1118 - accuracy: 0.9800 - val_loss: 0.5909 - val_accuracy: 0.8367\n",
      "Epoch 21/100\n",
      "2400/2400 [==============================] - 0s 16us/sample - loss: 0.1222 - accuracy: 0.9696 - val_loss: 0.5501 - val_accuracy: 0.8367\n",
      "Epoch 22/100\n",
      "2400/2400 [==============================] - 0s 17us/sample - loss: 0.0983 - accuracy: 0.9829 - val_loss: 0.5582 - val_accuracy: 0.8233\n",
      "Epoch 23/100\n",
      "2400/2400 [==============================] - 0s 17us/sample - loss: 0.1088 - accuracy: 0.9812 - val_loss: 0.6469 - val_accuracy: 0.8200\n",
      "Epoch 24/100\n",
      "2400/2400 [==============================] - 0s 18us/sample - loss: 0.1051 - accuracy: 0.9787 - val_loss: 0.5865 - val_accuracy: 0.8383\n",
      "Epoch 25/100\n",
      "2400/2400 [==============================] - 0s 17us/sample - loss: 0.0958 - accuracy: 0.9796 - val_loss: 0.5424 - val_accuracy: 0.8433\n",
      "Epoch 26/100\n",
      "2400/2400 [==============================] - 0s 18us/sample - loss: 0.0881 - accuracy: 0.9842 - val_loss: 0.5914 - val_accuracy: 0.8250\n",
      "Epoch 27/100\n",
      "2400/2400 [==============================] - 0s 17us/sample - loss: 0.0827 - accuracy: 0.9829 - val_loss: 0.5552 - val_accuracy: 0.8367\n",
      "Epoch 28/100\n",
      "2400/2400 [==============================] - 0s 17us/sample - loss: 0.0875 - accuracy: 0.9825 - val_loss: 0.5466 - val_accuracy: 0.8400\n",
      "Epoch 29/100\n",
      "2400/2400 [==============================] - 0s 15us/sample - loss: 0.0769 - accuracy: 0.9858 - val_loss: 0.5608 - val_accuracy: 0.8367\n",
      "Epoch 30/100\n",
      "2400/2400 [==============================] - 0s 16us/sample - loss: 0.0699 - accuracy: 0.9883 - val_loss: 0.5609 - val_accuracy: 0.8400\n",
      "Epoch 31/100\n",
      "2400/2400 [==============================] - 0s 15us/sample - loss: 0.0675 - accuracy: 0.9892 - val_loss: 0.5545 - val_accuracy: 0.8433\n",
      "Epoch 32/100\n",
      "2400/2400 [==============================] - 0s 16us/sample - loss: 0.0717 - accuracy: 0.9896 - val_loss: 0.6290 - val_accuracy: 0.8250\n",
      "Epoch 33/100\n",
      "2400/2400 [==============================] - 0s 16us/sample - loss: 0.0732 - accuracy: 0.9879 - val_loss: 0.5554 - val_accuracy: 0.8317\n",
      "Epoch 34/100\n",
      "2400/2400 [==============================] - 0s 17us/sample - loss: 0.0735 - accuracy: 0.9875 - val_loss: 0.5654 - val_accuracy: 0.8400\n",
      "Epoch 35/100\n",
      "2400/2400 [==============================] - 0s 17us/sample - loss: 0.0641 - accuracy: 0.9887 - val_loss: 0.5806 - val_accuracy: 0.8183\n",
      "Epoch 36/100\n",
      "2400/2400 [==============================] - 0s 16us/sample - loss: 0.0693 - accuracy: 0.9879 - val_loss: 0.5511 - val_accuracy: 0.8450\n",
      "Epoch 37/100\n",
      "2400/2400 [==============================] - 0s 16us/sample - loss: 0.0626 - accuracy: 0.9900 - val_loss: 0.5480 - val_accuracy: 0.8417\n",
      "Epoch 38/100\n",
      "2400/2400 [==============================] - 0s 18us/sample - loss: 0.0660 - accuracy: 0.9904 - val_loss: 0.5701 - val_accuracy: 0.8483\n",
      "Epoch 39/100\n",
      "2400/2400 [==============================] - 0s 17us/sample - loss: 0.0680 - accuracy: 0.9871 - val_loss: 0.5299 - val_accuracy: 0.8600\n",
      "Epoch 40/100\n",
      "2400/2400 [==============================] - 0s 18us/sample - loss: 0.0639 - accuracy: 0.9887 - val_loss: 0.5293 - val_accuracy: 0.8600\n",
      "Epoch 41/100\n",
      "2400/2400 [==============================] - 0s 17us/sample - loss: 0.0527 - accuracy: 0.9925 - val_loss: 0.5348 - val_accuracy: 0.8550\n",
      "Epoch 42/100\n",
      "2400/2400 [==============================] - 0s 18us/sample - loss: 0.0496 - accuracy: 0.9921 - val_loss: 0.5494 - val_accuracy: 0.8567\n",
      "Epoch 43/100\n",
      "2400/2400 [==============================] - 0s 16us/sample - loss: 0.0510 - accuracy: 0.9929 - val_loss: 0.5260 - val_accuracy: 0.8650\n",
      "Epoch 44/100\n",
      "2400/2400 [==============================] - 0s 16us/sample - loss: 0.0547 - accuracy: 0.9908 - val_loss: 0.5438 - val_accuracy: 0.8550\n",
      "Epoch 45/100\n",
      "2400/2400 [==============================] - 0s 16us/sample - loss: 0.0582 - accuracy: 0.9900 - val_loss: 0.5446 - val_accuracy: 0.8550\n",
      "Epoch 46/100\n",
      "2400/2400 [==============================] - 0s 16us/sample - loss: 0.0508 - accuracy: 0.9937 - val_loss: 0.5306 - val_accuracy: 0.8633\n",
      "Epoch 47/100\n",
      "2400/2400 [==============================] - 0s 16us/sample - loss: 0.0477 - accuracy: 0.9921 - val_loss: 0.5533 - val_accuracy: 0.8483\n",
      "Epoch 48/100\n",
      "2400/2400 [==============================] - 0s 17us/sample - loss: 0.0531 - accuracy: 0.9933 - val_loss: 0.5267 - val_accuracy: 0.8533\n",
      "Epoch 49/100\n",
      "2400/2400 [==============================] - 0s 17us/sample - loss: 0.0456 - accuracy: 0.9929 - val_loss: 0.5337 - val_accuracy: 0.8550\n",
      "Epoch 50/100\n",
      "2400/2400 [==============================] - 0s 18us/sample - loss: 0.0550 - accuracy: 0.9854 - val_loss: 0.5330 - val_accuracy: 0.8533\n",
      "Epoch 51/100\n",
      "2400/2400 [==============================] - 0s 17us/sample - loss: 0.0403 - accuracy: 0.9950 - val_loss: 0.5247 - val_accuracy: 0.8617\n",
      "Epoch 52/100\n",
      "2400/2400 [==============================] - 0s 18us/sample - loss: 0.0452 - accuracy: 0.9942 - val_loss: 0.5227 - val_accuracy: 0.8583\n",
      "Epoch 53/100\n",
      "2400/2400 [==============================] - 0s 18us/sample - loss: 0.0579 - accuracy: 0.9879 - val_loss: 0.6260 - val_accuracy: 0.8150\n",
      "Epoch 54/100\n",
      "2400/2400 [==============================] - 0s 16us/sample - loss: 0.0453 - accuracy: 0.9942 - val_loss: 0.5292 - val_accuracy: 0.8533\n",
      "Epoch 55/100\n",
      "2400/2400 [==============================] - 0s 18us/sample - loss: 0.0408 - accuracy: 0.9950 - val_loss: 0.5285 - val_accuracy: 0.8533\n"
     ]
    },
    {
     "name": "stdout",
     "output_type": "stream",
     "text": [
      "Epoch 56/100\n",
      "2400/2400 [==============================] - 0s 17us/sample - loss: 0.0443 - accuracy: 0.9942 - val_loss: 0.5219 - val_accuracy: 0.8633\n",
      "Epoch 57/100\n",
      "2400/2400 [==============================] - 0s 17us/sample - loss: 0.0462 - accuracy: 0.9921 - val_loss: 0.5242 - val_accuracy: 0.8633\n",
      "Epoch 58/100\n",
      "2400/2400 [==============================] - 0s 18us/sample - loss: 0.0443 - accuracy: 0.9912 - val_loss: 0.5165 - val_accuracy: 0.8517\n",
      "Epoch 59/100\n",
      "2400/2400 [==============================] - 0s 17us/sample - loss: 0.0439 - accuracy: 0.9937 - val_loss: 0.5093 - val_accuracy: 0.8517\n",
      "Epoch 60/100\n",
      "2400/2400 [==============================] - 0s 18us/sample - loss: 0.0459 - accuracy: 0.9908 - val_loss: 0.5476 - val_accuracy: 0.8483\n",
      "Epoch 61/100\n",
      "2400/2400 [==============================] - 0s 17us/sample - loss: 0.0480 - accuracy: 0.9908 - val_loss: 0.5067 - val_accuracy: 0.8617\n",
      "Epoch 62/100\n",
      "2400/2400 [==============================] - 0s 17us/sample - loss: 0.0429 - accuracy: 0.9925 - val_loss: 0.5095 - val_accuracy: 0.8533\n",
      "Epoch 63/100\n",
      "2400/2400 [==============================] - 0s 16us/sample - loss: 0.0380 - accuracy: 0.9954 - val_loss: 0.5038 - val_accuracy: 0.8633\n",
      "Epoch 64/100\n",
      "2400/2400 [==============================] - 0s 17us/sample - loss: 0.0396 - accuracy: 0.9925 - val_loss: 0.5302 - val_accuracy: 0.8500\n",
      "Epoch 65/100\n",
      "2400/2400 [==============================] - 0s 17us/sample - loss: 0.0381 - accuracy: 0.9933 - val_loss: 0.5123 - val_accuracy: 0.8617\n",
      "Epoch 66/100\n",
      "2400/2400 [==============================] - 0s 17us/sample - loss: 0.0389 - accuracy: 0.9929 - val_loss: 0.5238 - val_accuracy: 0.8517\n",
      "Epoch 67/100\n",
      "2400/2400 [==============================] - 0s 16us/sample - loss: 0.0320 - accuracy: 0.9967 - val_loss: 0.5240 - val_accuracy: 0.8483\n",
      "Epoch 68/100\n",
      "2400/2400 [==============================] - 0s 19us/sample - loss: 0.0366 - accuracy: 0.9946 - val_loss: 0.5153 - val_accuracy: 0.8517\n",
      "Epoch 69/100\n",
      "2400/2400 [==============================] - 0s 17us/sample - loss: 0.0324 - accuracy: 0.9967 - val_loss: 0.5157 - val_accuracy: 0.8467\n",
      "Epoch 70/100\n",
      "2400/2400 [==============================] - 0s 18us/sample - loss: 0.0367 - accuracy: 0.9958 - val_loss: 0.5129 - val_accuracy: 0.8583\n",
      "Epoch 71/100\n",
      "2400/2400 [==============================] - 0s 17us/sample - loss: 0.0343 - accuracy: 0.9958 - val_loss: 0.5092 - val_accuracy: 0.8533\n",
      "Epoch 72/100\n",
      "2400/2400 [==============================] - 0s 18us/sample - loss: 0.0350 - accuracy: 0.9942 - val_loss: 0.5500 - val_accuracy: 0.8467\n",
      "Epoch 73/100\n",
      "2400/2400 [==============================] - 0s 17us/sample - loss: 0.0350 - accuracy: 0.9950 - val_loss: 0.5071 - val_accuracy: 0.8583\n",
      "Epoch 74/100\n",
      "2400/2400 [==============================] - 0s 16us/sample - loss: 0.0319 - accuracy: 0.9954 - val_loss: 0.5183 - val_accuracy: 0.8533\n",
      "Epoch 75/100\n",
      "2400/2400 [==============================] - 0s 17us/sample - loss: 0.0339 - accuracy: 0.9958 - val_loss: 0.5041 - val_accuracy: 0.8600\n",
      "Epoch 76/100\n",
      "2400/2400 [==============================] - 0s 17us/sample - loss: 0.0283 - accuracy: 0.9987 - val_loss: 0.5071 - val_accuracy: 0.8550\n",
      "Epoch 77/100\n",
      "2400/2400 [==============================] - 0s 16us/sample - loss: 0.0276 - accuracy: 0.9987 - val_loss: 0.5146 - val_accuracy: 0.8567\n",
      "Epoch 78/100\n",
      "2400/2400 [==============================] - 0s 16us/sample - loss: 0.0298 - accuracy: 0.9971 - val_loss: 0.5051 - val_accuracy: 0.8583\n",
      "Epoch 79/100\n",
      "2400/2400 [==============================] - 0s 17us/sample - loss: 0.0348 - accuracy: 0.9937 - val_loss: 0.5104 - val_accuracy: 0.8583\n",
      "Epoch 80/100\n",
      "2400/2400 [==============================] - 0s 16us/sample - loss: 0.0284 - accuracy: 0.9958 - val_loss: 0.5136 - val_accuracy: 0.8517\n",
      "Epoch 81/100\n",
      "2400/2400 [==============================] - 0s 18us/sample - loss: 0.0329 - accuracy: 0.9942 - val_loss: 0.5056 - val_accuracy: 0.8500\n",
      "Epoch 82/100\n",
      "2400/2400 [==============================] - 0s 17us/sample - loss: 0.0263 - accuracy: 0.9967 - val_loss: 0.5162 - val_accuracy: 0.8550\n",
      "Epoch 83/100\n",
      "2400/2400 [==============================] - 0s 18us/sample - loss: 0.0314 - accuracy: 0.9958 - val_loss: 0.5127 - val_accuracy: 0.8583\n",
      "Epoch 84/100\n",
      "2400/2400 [==============================] - 0s 18us/sample - loss: 0.0299 - accuracy: 0.9950 - val_loss: 0.4975 - val_accuracy: 0.8667\n",
      "Epoch 85/100\n",
      "2400/2400 [==============================] - 0s 15us/sample - loss: 0.0292 - accuracy: 0.9962 - val_loss: 0.4956 - val_accuracy: 0.8617\n",
      "Epoch 86/100\n",
      "2400/2400 [==============================] - 0s 16us/sample - loss: 0.0339 - accuracy: 0.9962 - val_loss: 0.5067 - val_accuracy: 0.8550\n",
      "Epoch 87/100\n",
      "2400/2400 [==============================] - 0s 16us/sample - loss: 0.0243 - accuracy: 0.9983 - val_loss: 0.5077 - val_accuracy: 0.8650\n",
      "Epoch 88/100\n",
      "2400/2400 [==============================] - 0s 16us/sample - loss: 0.0300 - accuracy: 0.9954 - val_loss: 0.5155 - val_accuracy: 0.8700\n",
      "Epoch 89/100\n",
      "2400/2400 [==============================] - 0s 17us/sample - loss: 0.0284 - accuracy: 0.9962 - val_loss: 0.5384 - val_accuracy: 0.8633\n",
      "Epoch 90/100\n",
      "2400/2400 [==============================] - 0s 17us/sample - loss: 0.0291 - accuracy: 0.9946 - val_loss: 0.5056 - val_accuracy: 0.8633\n",
      "Epoch 91/100\n",
      "2400/2400 [==============================] - 0s 15us/sample - loss: 0.0264 - accuracy: 0.9967 - val_loss: 0.5238 - val_accuracy: 0.8567\n",
      "Epoch 92/100\n",
      "2400/2400 [==============================] - 0s 16us/sample - loss: 0.0279 - accuracy: 0.9962 - val_loss: 0.5307 - val_accuracy: 0.8567\n",
      "Epoch 93/100\n",
      "2400/2400 [==============================] - 0s 17us/sample - loss: 0.0266 - accuracy: 0.9971 - val_loss: 0.5711 - val_accuracy: 0.8550\n",
      "Epoch 94/100\n",
      "2400/2400 [==============================] - 0s 16us/sample - loss: 0.0264 - accuracy: 0.9983 - val_loss: 0.5388 - val_accuracy: 0.8650\n",
      "Epoch 95/100\n",
      "2400/2400 [==============================] - 0s 17us/sample - loss: 0.0242 - accuracy: 0.9971 - val_loss: 0.5380 - val_accuracy: 0.8633\n",
      "Epoch 96/100\n",
      "2400/2400 [==============================] - 0s 16us/sample - loss: 0.0271 - accuracy: 0.9971 - val_loss: 0.5477 - val_accuracy: 0.8567\n",
      "Epoch 97/100\n",
      "2400/2400 [==============================] - 0s 16us/sample - loss: 0.0245 - accuracy: 0.9975 - val_loss: 0.5327 - val_accuracy: 0.8550\n",
      "Epoch 98/100\n",
      "2400/2400 [==============================] - 0s 17us/sample - loss: 0.0262 - accuracy: 0.9962 - val_loss: 0.5104 - val_accuracy: 0.8600\n",
      "Epoch 99/100\n",
      "2400/2400 [==============================] - 0s 15us/sample - loss: 0.0241 - accuracy: 0.9971 - val_loss: 0.5050 - val_accuracy: 0.8567\n",
      "Epoch 100/100\n",
      "2400/2400 [==============================] - 0s 15us/sample - loss: 0.0263 - accuracy: 0.9967 - val_loss: 0.5005 - val_accuracy: 0.8517\n"
     ]
    }
   ],
   "source": [
    "trainer=model.fit(x_Train2,y_Train,batch_size=256,epochs=100,validation_data=(x_Test2,y_Test))"
   ]
  },
  {
   "cell_type": "code",
   "execution_count": 155,
   "id": "987f04d3",
   "metadata": {
    "scrolled": true
   },
   "outputs": [
    {
     "data": {
      "image/png": "[encoded data removed]",
      "text/plain": [
       "<Figure size 576x360 with 1 Axes>"
      ]
     },
     "metadata": {
      "needs_background": "light"
     },
     "output_type": "display_data"
    }
   ],
   "source": [
    "pd.DataFrame(trainer.history).plot(figsize=(8,5))\n",
    "plt.grid(True)\n",
    "plt.gca().set_ylim(0,1.1)\n",
    "plt.savefig('./Diagram/MLP.png')\n",
    "plt.show()"
   ]
  },
  {
   "cell_type": "code",
   "execution_count": 152,
   "id": "b5b81724",
   "metadata": {
    "scrolled": true
   },
   "outputs": [
    {
     "name": "stdout",
     "output_type": "stream",
     "text": [
      "Model: \"sequential_19\"\n",
      "_________________________________________________________________\n",
      "Layer (type)                 Output Shape              Param #   \n",
      "=================================================================\n",
      "flatten_19 (Flatten)         (None, 839)               0         \n",
      "_________________________________________________________________\n",
      "dropout_56 (Dropout)         (None, 839)               0         \n",
      "_________________________________________________________________\n",
      "dense_57 (Dense)             (None, 256)               215040    \n",
      "_________________________________________________________________\n",
      "dropout_57 (Dropout)         (None, 256)               0         \n",
      "_________________________________________________________________\n",
      "dense_58 (Dense)             (None, 256)               65792     \n",
      "_________________________________________________________________\n",
      "dropout_58 (Dropout)         (None, 256)               0         \n",
      "_________________________________________________________________\n",
      "dense_59 (Dense)             (None, 4)                 1028      \n",
      "=================================================================\n",
      "Total params: 281,860\n",
      "Trainable params: 281,860\n",
      "Non-trainable params: 0\n",
      "_________________________________________________________________\n"
     ]
    }
   ],
   "source": [
    "model.summary()"
   ]
  },
  {
   "cell_type": "code",
   "execution_count": 156,
   "id": "06e004cc",
   "metadata": {},
   "outputs": [],
   "source": [
    "model.save('./model/MLP.h5')\n",
    "model =tf.keras.models.load_model('./model/MLP.h5')"
   ]
  },
  {
   "cell_type": "code",
   "execution_count": 157,
   "id": "c5dd68fe",
   "metadata": {},
   "outputs": [
    {
     "name": "stdout",
     "output_type": "stream",
     "text": [
      "Multi-layer Perceptron classifier Accuracy on test set: 0.8516666666666667\n"
     ]
    }
   ],
   "source": [
    "y_pred_MLP =model.predict_classes(x_Test2)\n",
    "score_MLP=metrics.accuracy_score(y_Test,y_pred_MLP )\n",
    "print('Multi-layer Perceptron classifier Accuracy on test set:',score_MLP)"
   ]
  },
  {
   "cell_type": "code",
   "execution_count": null,
   "id": "2d90d22d",
   "metadata": {},
   "outputs": [],
   "source": []
  }
 ],
 "metadata": {
  "kernelspec": {
   "display_name": "Python 3 (ipykernel)",
   "language": "python",
   "name": "python3"
  },
  "language_info": {
   "codemirror_mode": {
    "name": "ipython",
    "version": 3
   },
   "file_extension": ".py",
   "mimetype": "text/x-python",
   "name": "python",
   "nbconvert_exporter": "python",
   "pygments_lexer": "ipython3",
   "version": "3.7.11"
  },
  "varInspector": {
   "cols": {
    "lenName": 16,
    "lenType": 16,
    "lenVar": 40
   },
   "kernels_config": {
    "python": {
     "delete_cmd_postfix": "",
     "delete_cmd_prefix": "del ",
     "library": "var_list.py",
     "varRefreshCmd": "print(var_dic_list())"
    },
    "r": {
     "delete_cmd_postfix": ") ",
     "delete_cmd_prefix": "rm(",
     "library": "var_list.r",
     "varRefreshCmd": "cat(var_dic_list()) "
    }
   },
   "types_to_exclude": [
    "module",
    "function",
    "builtin_function_or_method",
    "instance",
    "_Feature"
   ],
   "window_display": false
  }
 },
 "nbformat": 4,
 "nbformat_minor": 5
}
