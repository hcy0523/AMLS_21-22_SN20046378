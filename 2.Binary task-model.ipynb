{
 "cells": [
  {
   "cell_type": "markdown",
   "id": "eebfeaed",
   "metadata": {},
   "source": [
    "# 2.Binary task-model"
   ]
  },
  {
   "cell_type": "markdown",
   "id": "0d703179",
   "metadata": {},
   "source": [
    "### Import libraries\n",
    "The required libraries for this notebook are pandas, sklearn, copy, numpy, pickle and matplotlib.\n",
    "\n",
    "\n"
   ]
  },
  {
   "cell_type": "code",
   "execution_count": 1,
   "id": "46e606eb",
   "metadata": {},
   "outputs": [],
   "source": [
    "# import libraries\n",
    "import numpy as np\n",
    "import pandas as pd\n",
    "from collections import Counter\n",
    "import matplotlib.pyplot as plt\n",
    "from sklearn.utils import shuffle\n",
    "from sklearn.model_selection import train_test_split\n",
    "\n",
    "from sklearn.metrics import confusion_matrix, classification_report,accuracy_score\n",
    "\n",
    "from sklearn.preprocessing import MinMaxScaler\n",
    "from sklearn.preprocessing import StandardScaler\n",
    "from sklearn.linear_model import LogisticRegression\n",
    "\n",
    "\n",
    "from sklearn.neighbors import KNeighborsClassifier\n",
    "from sklearn import metrics\n",
    "from sklearn import svm\n",
    "import joblib\n",
    "\n",
    "from sklearn import tree\n",
    "from sklearn.ensemble import RandomForestClassifier\n",
    "from sklearn.ensemble import BaggingClassifier\n",
    "from sklearn.ensemble import AdaBoostClassifier"
   ]
  },
  {
   "cell_type": "markdown",
   "id": "bede97f9",
   "metadata": {},
   "source": [
    "### Load the data\n",
    "We are going to use the Brain Tumors dataset "
   ]
  },
  {
   "cell_type": "code",
   "execution_count": 76,
   "id": "311adb17",
   "metadata": {},
   "outputs": [],
   "source": [
    "data=pd.read_csv('./dataset/label.csv')\n",
    "df0=pd.DataFrame(data)"
   ]
  },
  {
   "cell_type": "code",
   "execution_count": 77,
   "id": "bcca1e96",
   "metadata": {},
   "outputs": [],
   "source": [
    "data_reduced=np.load('Data_reduced.npy')"
   ]
  },
  {
   "cell_type": "code",
   "execution_count": 78,
   "id": "b1dda8ad",
   "metadata": {},
   "outputs": [],
   "source": [
    "target=[]\n",
    "for tumor in df0.label:\n",
    "    if tumor == 'no_tumor':\n",
    "        target.append(0)\n",
    "    else:\n",
    "        target.append(1)\n",
    "target = np.array(target)"
   ]
  },
  {
   "cell_type": "code",
   "execution_count": 79,
   "id": "b49177de",
   "metadata": {},
   "outputs": [
    {
     "name": "stdout",
     "output_type": "stream",
     "text": [
      "Counter({1: 2546, 0: 454})\n"
     ]
    }
   ],
   "source": [
    "counts=Counter(target)\n",
    "print(counts)# show the distribution of sample"
   ]
  },
  {
   "cell_type": "markdown",
   "id": "79bc300f",
   "metadata": {},
   "source": [
    "0 represents No tumor，1 represents Tumor"
   ]
  },
  {
   "cell_type": "markdown",
   "id": "e5946f5d",
   "metadata": {},
   "source": [
    "### Shuffle and split the data into training and test set"
   ]
  },
  {
   "cell_type": "code",
   "execution_count": 80,
   "id": "e5658e85",
   "metadata": {},
   "outputs": [],
   "source": [
    "values= data_reduced.copy()\n",
    "#print(values)"
   ]
  },
  {
   "cell_type": "code",
   "execution_count": 81,
   "id": "b261245f",
   "metadata": {},
   "outputs": [],
   "source": [
    "values, target = shuffle(values,target)\n",
    "x_train, x_test, y_train, y_test = train_test_split(values, target, train_size=0.8, random_state=0)"
   ]
  },
  {
   "cell_type": "code",
   "execution_count": 82,
   "id": "6af3a371",
   "metadata": {},
   "outputs": [
    {
     "name": "stdout",
     "output_type": "stream",
     "text": [
      "(2400, 839) (600, 839) 2400 600\n",
      "train set: 0.8  | test set: 0.2\n"
     ]
    }
   ],
   "source": [
    "print(x_train.shape, x_test.shape, len(y_train), len(y_test))\n",
    "\n",
    "print('train set: {}  | test set: {}'.format(round(((len(y_train)*1.0)/len(values)),3),\n",
    "                                                       round((len(y_test)*1.0)/len(values),3)))"
   ]
  },
  {
   "cell_type": "code",
   "execution_count": 83,
   "id": "cf58a50d",
   "metadata": {},
   "outputs": [],
   "source": [
    "# Pre-process data\n",
    "scaler = MinMaxScaler() \n",
    "x_train1 = scaler.fit_transform(x_train)\n",
    "x_test1 = scaler.transform(x_test)\n",
    "scaler = StandardScaler()\n",
    "x_train2 = scaler.fit_transform(x_train)\n",
    "x_test2 = scaler.transform(x_test)"
   ]
  },
  {
   "cell_type": "markdown",
   "id": "8aa72823",
   "metadata": {},
   "source": [
    "> Scaling the data with MinMaxScaler or StandartScaler can basically get ready the data for the Machine Learning algorithm which can help converging."
   ]
  },
  {
   "cell_type": "markdown",
   "id": "6218b473",
   "metadata": {},
   "source": [
    "### 1.Logistic Regression"
   ]
  },
  {
   "cell_type": "code",
   "execution_count": 84,
   "id": "5d3f50fb",
   "metadata": {
    "scrolled": true
   },
   "outputs": [
    {
     "name": "stdout",
     "output_type": "stream",
     "text": [
      "[1 1 1 1 1 0 1 1 1 1 0 1 1 1 0 1 1 1 0 1 0 0 1 1 1 1 1 1 1 1 1 1 1 1 1 1 1\n",
      " 1 1 1 1 1 1 1 1 0 1 1 1 1 1 1 1 1 1 0 1 1 1 0 1 0 0 1 1 0 1 1 1 1 1 1 1 1\n",
      " 1 1 1 1 1 1 0 1 1 1 1 1 1 1 1 0 1 0 1 1 1 1 1 0 1 1 1 1 1 1 1 0 1 1 1 1 1\n",
      " 1 1 1 0 1 1 1 1 1 1 0 1 1 1 1 1 0 1 0 1 1 1 1 1 1 1 1 1 1 1 1 1 1 1 1 1 1\n",
      " 1 1 1 1 1 1 1 0 1 1 1 0 1 1 1 1 1 0 1 1 0 1 1 1 1 1 1 1 1 1 1 0 1 1 0 1 1\n",
      " 1 1 1 0 1 1 1 1 1 1 1 0 1 1 0 1 1 1 1 1 1 0 0 1 1 1 1 0 1 1 1 1 1 1 1 1 1\n",
      " 1 1 1 1 1 0 1 1 0 1 1 1 1 1 1 1 1 1 0 1 1 1 1 1 1 1 1 1 1 1 1 1 1 1 1 1 0\n",
      " 1 1 0 1 1 1 1 1 1 1 1 1 1 1 1 1 1 1 1 1 1 1 1 1 1 1 0 1 1 0 1 1 1 1 1 1 1\n",
      " 1 1 1 1 1 1 1 1 1 1 1 1 1 1 1 1 1 1 1 1 1 0 1 1 1 1 1 1 1 1 1 1 1 1 1 1 1\n",
      " 0 1 1 1 1 1 1 1 1 1 1 1 1 1 1 1 1 1 1 1 1 1 1 1 1 1 1 1 1 1 1 1 1 1 1 1 1\n",
      " 0 1 1 1 1 0 0 1 1 1 1 1 1 1 1 1 1 1 1 1 1 0 1 0 1 1 1 0 1 0 1 0 1 1 1 1 1\n",
      " 1 1 1 1 1 1 0 1 1 1 1 1 1 1 1 1 1 1 1 1 0 1 1 1 1 1 1 1 1 1 1 1 0 1 1 1 1\n",
      " 0 1 0 1 1 1 1 0 0 1 1 1 1 1 1 1 1 1 1 1 1 0 1 1 1 1 1 1 1 1 1 1 1 1 1 1 1\n",
      " 1 1 0 1 1 1 1 1 1 0 0 1 1 1 1 1 1 1 1 1 1 1 1 1 0 0 1 1 1 1 1 1 1 1 1 1 1\n",
      " 0 1 1 1 1 0 1 1 1 1 1 1 1 1 1 1 1 1 1 1 1 1 1 0 0 1 0 1 1 1 1 1 1 1 1 1 1\n",
      " 0 1 1 1 1 1 1 1 1 1 1 1 1 0 1 0 1 1 1 1 1 1 1 0 1 1 1 1 1 1 1 1 1 0 1 1 1\n",
      " 1 1 1 1 1 1 1 1]\n",
      "[[ 61  30]\n",
      " [ 12 497]]\n",
      "Accuracy on test set: 0.93\n",
      "              precision    recall  f1-score   support\n",
      "\n",
      "           0       0.84      0.67      0.74        91\n",
      "           1       0.94      0.98      0.96       509\n",
      "\n",
      "    accuracy                           0.93       600\n",
      "   macro avg       0.89      0.82      0.85       600\n",
      "weighted avg       0.93      0.93      0.93       600\n",
      "\n"
     ]
    }
   ],
   "source": [
    "def logRegrPredict(x_train, y_train,x_test ):\n",
    "    # Build Logistic Regression Model\n",
    "    log_reg = LogisticRegression(penalty='l2',max_iter =50,solver='lbfgs')\n",
    "    # Train the model using the training sets\n",
    "    log_reg.fit(x_train, y_train)\n",
    "    y_pred= log_reg.predict(x_test)\n",
    "    joblib.dump(log_reg, './model/log_binary.m')\n",
    "    return y_pred\n",
    "\n",
    "y_pred_logRegr = logRegrPredict(x_train2, y_train,x_test2)\n",
    "print(y_pred_logRegr)\n",
    "\n",
    "print(confusion_matrix(y_test, y_pred_logRegr))\n",
    "print('Accuracy on test set: '+str(accuracy_score(y_test,y_pred_logRegr)))\n",
    "print(classification_report(y_test,y_pred_logRegr))"
   ]
  },
  {
   "cell_type": "code",
   "execution_count": null,
   "id": "5097e5bf",
   "metadata": {},
   "outputs": [],
   "source": []
  },
  {
   "cell_type": "markdown",
   "id": "06444dde",
   "metadata": {},
   "source": [
    "### 2.K-Nearest Neighbours"
   ]
  },
  {
   "cell_type": "code",
   "execution_count": 11,
   "id": "e2f271a1",
   "metadata": {},
   "outputs": [],
   "source": [
    "def KNNClassifier(X_train, y_train, X_test,k):\n",
    "\n",
    "    #Create KNN object with a K coefficient\n",
    "    neigh = KNeighborsClassifier(n_neighbors=k)\n",
    "    neigh.fit(X_train, y_train) # Fit KNN model\n",
    "\n",
    "\n",
    "    Y_pred_KNN = neigh.predict(X_test)\n",
    "    joblib.dump(neigh, './model/knn_binary.m')\n",
    "    #knn = joblib.load('./model/knn_binary.m')\n",
    "    return Y_pred_KNN"
   ]
  },
  {
   "cell_type": "code",
   "execution_count": 12,
   "id": "8f7b6a90",
   "metadata": {},
   "outputs": [],
   "source": [
    "score_list=[]\n",
    "\n",
    "for i in range(1,36):\n",
    "    knn = KNeighborsClassifier(n_neighbors=i)\n",
    "    knn.fit(x_train1,y_train)\n",
    "    pred_i_KNN = knn.predict(x_test1)\n",
    "    score_list.append(metrics.accuracy_score(y_test,pred_i_KNN))"
   ]
  },
  {
   "cell_type": "code",
   "execution_count": 13,
   "id": "a80d464d",
   "metadata": {
    "scrolled": false
   },
   "outputs": [
    {
     "data": {
      "image/png": "[encoded data removed]",
      "text/plain": [
       "<Figure size 432x288 with 1 Axes>"
      ]
     },
     "metadata": {
      "needs_background": "light"
     },
     "output_type": "display_data"
    }
   ],
   "source": [
    "plt.plot(range(1,36),score_list,color='pink', linestyle='dashed', marker='o', markerfacecolor='grey',markersize=10)\n",
    "plt.title(\"Accuracy vs. K Value\")\n",
    "plt.xlabel(\"K\")\n",
    "plt.savefig('./Diagram/KNNClassifier.png')\n",
    "plt.ylabel(\"Accuracy\")\n",
    "plt.show()"
   ]
  },
  {
   "cell_type": "code",
   "execution_count": 14,
   "id": "bdc0d8b9",
   "metadata": {},
   "outputs": [],
   "source": [
    "#high_score=score_list.index(np.max(score_list))+1"
   ]
  },
  {
   "cell_type": "code",
   "execution_count": 15,
   "id": "f7f80b9c",
   "metadata": {},
   "outputs": [
    {
     "name": "stdout",
     "output_type": "stream",
     "text": [
      "K-Nearest Neighbours Accuracy on test set: 0.9383333333333334\n"
     ]
    }
   ],
   "source": [
    "y_pred_KNN=KNNClassifier(x_train, y_train, x_test,1)\n",
    "\n",
    "score=metrics.accuracy_score(y_test,y_pred_KNN)\n",
    "print('K-Nearest Neighbours Accuracy on test set:',score)"
   ]
  },
  {
   "cell_type": "code",
   "execution_count": null,
   "id": "168b6bf9",
   "metadata": {},
   "outputs": [],
   "source": []
  },
  {
   "cell_type": "markdown",
   "id": "b65ca9f8",
   "metadata": {},
   "source": [
    "### 3. Support Vector Machine (SVM)"
   ]
  },
  {
   "cell_type": "code",
   "execution_count": 16,
   "id": "988ec11c",
   "metadata": {
    "scrolled": false
   },
   "outputs": [
    {
     "name": "stdout",
     "output_type": "stream",
     "text": [
      "[1 1 1 1 1 1 1 1 1 1 1 0 1 1 1 1 1 1 1 1 1 1 0 1 1 1 1 0 1 0 1 1 1 1 1 1 1\n",
      " 1 1 1 1 0 1 1 1 1 1 1 1 1 1 1 1 1 1 1 1 1 1 1 1 1 1 1 1 1 1 0 1 1 1 1 1 1\n",
      " 1 1 1 0 1 1 1 1 1 1 1 1 1 1 0 0 0 1 1 1 1 1 1 1 1 1 1 1 1 1 1 1 1 1 1 1 1\n",
      " 1 1 1 1 1 1 1 1 1 1 1 1 1 1 1 1 1 1 0 1 1 1 1 1 1 1 1 1 1 1 1 1 1 1 1 1 1\n",
      " 1 1 1 1 1 1 1 1 1 1 1 1 1 1 0 1 1 1 1 1 1 1 1 1 1 1 1 1 1 0 1 1 1 1 1 1 1\n",
      " 1 1 1 1 1 1 1 1 1 1 1 1 1 0 0 1 1 1 1 1 0 1 1 0 1 1 1 0 1 1 1 1 1 0 1 1 0\n",
      " 1 1 1 1 0 1 1 1 1 1 1 1 1 1 1 1 1 1 1 0 1 1 1 1 1 1 1 1 1 1 1 1 1 1 1 1 1\n",
      " 1 1 1 1 1 1 1 1 1 1 1 1 1 1 1 1 0 1 1 1 0 1 1 1 1 0 1 1 1 1 1 1 1 0 1 1 1\n",
      " 1 1 1 1 1 1 1 1 1 1 1 1 1 0 1 1 1 1 1 1 1 1 1 1 1 1 1 1 1 0 1 1 1 1 1 0 0\n",
      " 1 1 1 1 1 1 1 0 1 1 1 1 1 0 1 1 0 1 1 1 1 1 1 1 1 1 1 1 1 1 1 1 0 1 1 1 1\n",
      " 1 1 1 1 1 1 1 1 1 1 1 1 1 1 1 1 1 1 0 1 1 1 1 1 1 1 0 1 1 1 1 1 1 1 1 1 1\n",
      " 1 0 1 1 1 1 1 1 1 1 1 0 0 1 1 1 1 1 1 1 1 1 1 1 1 1 1 1 1 1 1 0 1 1 0 1 0\n",
      " 0 1 1 1 0 1 1 1 1 1 1 1 1 1 1 1 1 0 0 1 1 1 1 1 1 1 1 1 1 1 1 1 0 1 1 1 1\n",
      " 1 1 1 1 1 0 1 1 1 1 1 1 1 1 1 1 0 1 1 1 1 0 1 1 1 1 1 1 1 1 1 1 1 1 1 1 0\n",
      " 0 0 1 1 1 1 1 1 1 1 1 1 1 1 1 1 1 1 1 0 1 1 1 0 1 1 1 1 1 0 1 1 1 1 1 1 1\n",
      " 1 1 1 1 1 1 1 1 1 1 1 0 1 1 1 1 1 0 1 1 1 1 1 1 1 1 1 1 1 1 1 1 1 1 1 1 1\n",
      " 1 1 1 1 1 1 1 1]\n",
      "Accuracy: 0.92\n"
     ]
    }
   ],
   "source": [
    "def img_SVM(x_train, y_train, x_test, y_test):\n",
    "    SVM_class = svm.SVC(kernel='rbf')\n",
    "\n",
    "    SVM_class.fit(x_train, y_train)\n",
    "\n",
    "    pred_SVM = SVM_class.predict(x_test)\n",
    "    joblib.dump(SVM_class, './model/SVM_binary.m')\n",
    "    print(pred_SVM)\n",
    "\n",
    "    print(\"Accuracy:\", accuracy_score(y_test, pred_SVM))\n",
    "    return pred_SVM\n",
    "pred_SVM=img_SVM(x_train, y_train, x_test, y_test)"
   ]
  },
  {
   "cell_type": "code",
   "execution_count": 17,
   "id": "cff57bbe",
   "metadata": {},
   "outputs": [],
   "source": [
    "SVM = joblib.load('./model/SVM_binary.m')"
   ]
  },
  {
   "cell_type": "code",
   "execution_count": null,
   "id": "465d55a5",
   "metadata": {},
   "outputs": [],
   "source": []
  },
  {
   "cell_type": "code",
   "execution_count": 18,
   "id": "af7d955c",
   "metadata": {},
   "outputs": [
    {
     "name": "stdout",
     "output_type": "stream",
     "text": [
      "Counter({1: 504, 0: 96})\n"
     ]
    }
   ],
   "source": [
    "test_Proportion=Counter(y_test)\n",
    "print(test_Proportion)"
   ]
  },
  {
   "cell_type": "code",
   "execution_count": 19,
   "id": "4b018047",
   "metadata": {},
   "outputs": [
    {
     "name": "stdout",
     "output_type": "stream",
     "text": [
      "Counter({1: 535, 0: 65})\n"
     ]
    }
   ],
   "source": [
    "logRegr_Proportion=Counter(y_pred_logRegr)\n",
    "print(logRegr_Proportion)"
   ]
  },
  {
   "cell_type": "code",
   "execution_count": 20,
   "id": "14c2c356",
   "metadata": {},
   "outputs": [
    {
     "name": "stdout",
     "output_type": "stream",
     "text": [
      "Counter({1: 519, 0: 81})\n"
     ]
    }
   ],
   "source": [
    "KNN_Proportion=Counter( y_pred_KNN)\n",
    "print(KNN_Proportion)"
   ]
  },
  {
   "cell_type": "code",
   "execution_count": 21,
   "id": "18d74add",
   "metadata": {},
   "outputs": [
    {
     "name": "stdout",
     "output_type": "stream",
     "text": [
      "Counter({1: 542, 0: 58})\n"
     ]
    }
   ],
   "source": [
    "SVM_Proportion=Counter(pred_SVM)\n",
    "print(SVM_Proportion)"
   ]
  },
  {
   "cell_type": "code",
   "execution_count": 22,
   "id": "f0f2f78e",
   "metadata": {
    "scrolled": false
   },
   "outputs": [
    {
     "data": {
      "text/html": [
       "<div>\n",
       "<style scoped>\n",
       "    .dataframe tbody tr th:only-of-type {\n",
       "        vertical-align: middle;\n",
       "    }\n",
       "\n",
       "    .dataframe tbody tr th {\n",
       "        vertical-align: top;\n",
       "    }\n",
       "\n",
       "    .dataframe thead th {\n",
       "        text-align: right;\n",
       "    }\n",
       "</style>\n",
       "<table border=\"1\" class=\"dataframe\">\n",
       "  <thead>\n",
       "    <tr style=\"text-align: right;\">\n",
       "      <th></th>\n",
       "      <th>target</th>\n",
       "      <th>Log</th>\n",
       "      <th>KNN</th>\n",
       "      <th>SVM</th>\n",
       "    </tr>\n",
       "  </thead>\n",
       "  <tbody>\n",
       "    <tr>\n",
       "      <th>1</th>\n",
       "      <td>504</td>\n",
       "      <td>535</td>\n",
       "      <td>519</td>\n",
       "      <td>542</td>\n",
       "    </tr>\n",
       "    <tr>\n",
       "      <th>0</th>\n",
       "      <td>96</td>\n",
       "      <td>65</td>\n",
       "      <td>81</td>\n",
       "      <td>58</td>\n",
       "    </tr>\n",
       "  </tbody>\n",
       "</table>\n",
       "</div>"
      ],
      "text/plain": [
       "   target  Log  KNN  SVM\n",
       "1     504  535  519  542\n",
       "0      96   65   81   58"
      ]
     },
     "execution_count": 22,
     "metadata": {},
     "output_type": "execute_result"
    }
   ],
   "source": [
    "Compare={'target':test_Proportion,'Log':logRegr_Proportion,'KNN':KNN_Proportion,'SVM':SVM_Proportion}\n",
    "Com_table=pd.DataFrame(Compare)\n",
    "Com_table"
   ]
  },
  {
   "cell_type": "markdown",
   "id": "0ff8a2fd",
   "metadata": {},
   "source": [
    "## !!!!Contents below don't included in the paper!!!!"
   ]
  },
  {
   "cell_type": "code",
   "execution_count": 23,
   "id": "d7f6c844",
   "metadata": {},
   "outputs": [],
   "source": [
    "from sklearn import tree\n",
    "from sklearn.ensemble import RandomForestClassifier\n",
    "from sklearn.ensemble import BaggingClassifier\n",
    "from sklearn.ensemble import AdaBoostClassifier"
   ]
  },
  {
   "cell_type": "markdown",
   "id": "0d9d9dd2",
   "metadata": {},
   "source": [
    "### 4.Decision Tree"
   ]
  },
  {
   "cell_type": "code",
   "execution_count": 24,
   "id": "68bca958",
   "metadata": {},
   "outputs": [
    {
     "name": "stdout",
     "output_type": "stream",
     "text": [
      "Accuracy Score on train data:  1.0\n",
      "Accuracy Score on test data:  0.875\n"
     ]
    }
   ],
   "source": [
    "#Importing the Decision tree classifier from the sklearn library.\n",
    "tree_params={\n",
    "    'criterion':'entropy'\n",
    "}\n",
    "DT = tree.DecisionTreeClassifier( **tree_params )\n",
    "DT.fit(x_train,y_train)\n",
    "y_pred_tree =  DT.predict(x_test)\n",
    "\n",
    "print('Accuracy Score on train data: ', accuracy_score(y_true=y_train, y_pred=DT.predict(x_train)))\n",
    "print('Accuracy Score on test data: ', accuracy_score(y_true=y_test, y_pred=y_pred_tree))"
   ]
  },
  {
   "cell_type": "code",
   "execution_count": 25,
   "id": "211dc789",
   "metadata": {},
   "outputs": [
    {
     "name": "stdout",
     "output_type": "stream",
     "text": [
      "Accuracy Score on train data:  0.9675\n",
      "Accuracy Score on the test data:  0.875\n"
     ]
    }
   ],
   "source": [
    "tree_params={\n",
    "    'criterion': 'entropy',\n",
    "    'min_samples_split':30\n",
    "}\n",
    "DT = tree.DecisionTreeClassifier(**tree_params)\n",
    "DT.fit(x_train, y_train)\n",
    "print('Accuracy Score on train data: ', accuracy_score(y_true=y_train, y_pred=DT.predict(x_train)))\n",
    "print('Accuracy Score on the test data: ', accuracy_score(y_true=y_test, y_pred=y_pred_tree))"
   ]
  },
  {
   "cell_type": "markdown",
   "id": "d256b806",
   "metadata": {},
   "source": [
    "### 5. Ensemble Methods"
   ]
  },
  {
   "cell_type": "code",
   "execution_count": 26,
   "id": "02cd0a49",
   "metadata": {},
   "outputs": [],
   "source": [
    "def baggingClassifierML(X_train, y_train, X_test,k):\n",
    "\n",
    "    #Create baggingobject with a K coefficient\n",
    "    bagmodel=BaggingClassifier(n_estimators=k,max_samples=0.5, max_features=4,random_state=1)\n",
    "    bagmodel.fit(X_train, y_train) # Fit bagging model\n",
    "\n",
    "\n",
    "    Y_pred = bagmodel.predict(X_test)\n",
    "    #print (Y_pred)\n",
    "    return Y_pred"
   ]
  },
  {
   "cell_type": "code",
   "execution_count": 27,
   "id": "7d75e3d9",
   "metadata": {},
   "outputs": [],
   "source": [
    "score_list=[]\n",
    "\n",
    "for i in range(1,25):\n",
    "    Y_pred_i_bagging=baggingClassifierML(x_train, y_train, x_test, i)\n",
    "    score_list.append(metrics.accuracy_score(y_test,Y_pred_i_bagging))"
   ]
  },
  {
   "cell_type": "code",
   "execution_count": 28,
   "id": "5a773126",
   "metadata": {},
   "outputs": [
    {
     "data": {
      "image/png": "[encoded data removed]",
      "text/plain": [
       "<Figure size 432x288 with 1 Axes>"
      ]
     },
     "metadata": {
      "needs_background": "light"
     },
     "output_type": "display_data"
    }
   ],
   "source": [
    "plt.plot(range(1,25),score_list,color='pink', linestyle='dashed', marker='o', markerfacecolor='grey',markersize=10)\n",
    "plt.title(\"Accuracy vs. K Value\")\n",
    "plt.xlabel(\"K\")\n",
    "plt.ylabel(\"Accuracy\")\n",
    "plt.show()"
   ]
  },
  {
   "cell_type": "code",
   "execution_count": null,
   "id": "6a0fe96b",
   "metadata": {},
   "outputs": [],
   "source": []
  },
  {
   "cell_type": "code",
   "execution_count": 29,
   "id": "8091e936",
   "metadata": {},
   "outputs": [
    {
     "name": "stdout",
     "output_type": "stream",
     "text": [
      "0.89\n"
     ]
    }
   ],
   "source": [
    "Y_pred_bagging=baggingClassifierML(x_train, y_train, x_test,10)\n",
    "score=metrics.accuracy_score(y_test,Y_pred_bagging)\n",
    "print(score)"
   ]
  },
  {
   "cell_type": "code",
   "execution_count": 30,
   "id": "f4c29e96",
   "metadata": {},
   "outputs": [],
   "source": [
    "def boostingClassifierML(X_train, y_train, X_test,k):\n",
    "    boostmodel=AdaBoostClassifier(n_estimators=k)\n",
    "    boostmodel.fit(X_train , y_train,sample_weight=None)\n",
    "\n",
    "\n",
    "    Y_pred = boostmodel.predict(X_test)\n",
    "    #print (Y_pred)\n",
    "    return Y_pred"
   ]
  },
  {
   "cell_type": "code",
   "execution_count": 31,
   "id": "c2b9d6ed",
   "metadata": {},
   "outputs": [],
   "source": [
    "score_list=[]\n",
    "\n",
    "for i in range(1,25):\n",
    "    Y_pred_i_boosting=boostingClassifierML(x_train2, y_train, x_test2, i)\n",
    "    score_list.append(metrics.accuracy_score(y_test,Y_pred_i_boosting))"
   ]
  },
  {
   "cell_type": "code",
   "execution_count": 32,
   "id": "e7d0a326",
   "metadata": {},
   "outputs": [
    {
     "data": {
      "image/png": "[encoded data removed]",
      "text/plain": [
       "<Figure size 432x288 with 1 Axes>"
      ]
     },
     "metadata": {
      "needs_background": "light"
     },
     "output_type": "display_data"
    }
   ],
   "source": [
    "plt.plot(range(1,25),score_list,color='pink', linestyle='dashed', marker='o', markerfacecolor='grey',markersize=10)\n",
    "plt.title(\"Accuracy vs. K Value\")\n",
    "plt.xlabel(\"K\")\n",
    "plt.ylabel(\"Accuracy\")\n",
    "plt.show()"
   ]
  },
  {
   "cell_type": "code",
   "execution_count": 33,
   "id": "e494acc8",
   "metadata": {},
   "outputs": [
    {
     "name": "stdout",
     "output_type": "stream",
     "text": [
      "0.9116666666666666\n"
     ]
    }
   ],
   "source": [
    "Y_pred_boosting=boostingClassifierML(x_train2, y_train, x_test2, 100)\n",
    "score=metrics.accuracy_score(y_test,Y_pred_boosting)\n",
    "print(score)"
   ]
  }
 ],
 "metadata": {
  "kernelspec": {
   "display_name": "Python 3 (ipykernel)",
   "language": "python",
   "name": "python3"
  },
  "language_info": {
   "codemirror_mode": {
    "name": "ipython",
    "version": 3
   },
   "file_extension": ".py",
   "mimetype": "text/x-python",
   "name": "python",
   "nbconvert_exporter": "python",
   "pygments_lexer": "ipython3",
   "version": "3.7.11"
  },
  "varInspector": {
   "cols": {
    "lenName": 16,
    "lenType": 16,
    "lenVar": 40
   },
   "kernels_config": {
    "python": {
     "delete_cmd_postfix": "",
     "delete_cmd_prefix": "del ",
     "library": "var_list.py",
     "varRefreshCmd": "print(var_dic_list())"
    },
    "r": {
     "delete_cmd_postfix": ") ",
     "delete_cmd_prefix": "rm(",
     "library": "var_list.r",
     "varRefreshCmd": "cat(var_dic_list()) "
    }
   },
   "types_to_exclude": [
    "module",
    "function",
    "builtin_function_or_method",
    "instance",
    "_Feature"
   ],
   "window_display": false
  }
 },
 "nbformat": 4,
 "nbformat_minor": 5
}
