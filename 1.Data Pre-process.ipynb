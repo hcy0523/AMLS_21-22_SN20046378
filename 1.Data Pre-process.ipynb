{
 "cells": [
  {
   "cell_type": "markdown",
   "id": "eebfeaed",
   "metadata": {},
   "source": [
    "# 1.Data Pre-process"
   ]
  },
  {
   "cell_type": "markdown",
   "id": "0d703179",
   "metadata": {},
   "source": [
    "### Import libraries\n",
    "The required libraries for this notebook are pandas, sklearn, copy, numpy, pickle and matplotlib.\n",
    "\n",
    "\n"
   ]
  },
  {
   "cell_type": "code",
   "execution_count": 1,
   "id": "46e606eb",
   "metadata": {},
   "outputs": [],
   "source": [
    "# import libraries\n",
    "import numpy as np\n",
    "import pandas as pd\n",
    "\n",
    "import cv2\n",
    "import os\n",
    "\n",
    "from sklearn.decomposition import PCA\n",
    "import joblib"
   ]
  },
  {
   "cell_type": "markdown",
   "id": "bede97f9",
   "metadata": {},
   "source": [
    "### Load the data\n",
    "We are going to use the Brain Tumors dataset "
   ]
  },
  {
   "cell_type": "code",
   "execution_count": 2,
   "id": "311adb17",
   "metadata": {},
   "outputs": [],
   "source": [
    "data=pd.read_csv('./dataset/label.csv')\n",
    "df0=pd.DataFrame(data)"
   ]
  },
  {
   "cell_type": "code",
   "execution_count": 3,
   "id": "77a112f6",
   "metadata": {},
   "outputs": [
    {
     "name": "stdout",
     "output_type": "stream",
     "text": [
      "(3000, 262146)\n"
     ]
    }
   ],
   "source": [
    "for root, dirs, files in os.walk('./dataset/image'):\n",
    "    for d in dirs:\n",
    "        print(d) \n",
    "    i=0\n",
    "    Data=[]\n",
    "    for file in files:  \n",
    "        img_path = root+'/'+file\n",
    "        img = cv2.imread(img_path,0)\n",
    "        image_data = img.flatten()\n",
    "        Data.append(image_data)\n",
    "    Data_Array = np.array(Data)\n",
    "    df = pd.DataFrame(Data_Array)\n",
    "    df2 = pd.concat([df0,df],axis=1)\n",
    "    print(df2.shape)\n"
   ]
  },
  {
   "cell_type": "markdown",
   "id": "277549bd",
   "metadata": {},
   "source": [
    "### Dimensionality Reduction"
   ]
  },
  {
   "cell_type": "code",
   "execution_count": 4,
   "id": "489ee8ec",
   "metadata": {},
   "outputs": [
    {
     "name": "stdout",
     "output_type": "stream",
     "text": [
      "(3000, 839)\n"
     ]
    }
   ],
   "source": [
    "def PCAPredict(X, k):\n",
    "    pca=PCA(n_components=k)\n",
    "    data_reduced=pca.fit_transform(X)\n",
    "    joblib.dump(pca, './model/pca.m')\n",
    "    Variance = pca.explained_variance_ratio_\n",
    "    SValue = pca.singular_values_\n",
    "    Vcomp = pca.components_  \n",
    "    return SValue, Variance, Vcomp, data_reduced\n",
    "SingularValue, Variance, Vcomponent, Data_reduced=PCAPredict(df, 0.95)\n",
    "print(Data_reduced.shape)"
   ]
  },
  {
   "cell_type": "code",
   "execution_count": 5,
   "id": "bcca1e96",
   "metadata": {},
   "outputs": [],
   "source": [
    "np.save('Data_reduced',Data_reduced)"
   ]
  },
  {
   "cell_type": "code",
   "execution_count": null,
   "id": "eb98ffd0",
   "metadata": {},
   "outputs": [],
   "source": []
  }
 ],
 "metadata": {
  "kernelspec": {
   "display_name": "Python 3 (ipykernel)",
   "language": "python",
   "name": "python3"
  },
  "language_info": {
   "codemirror_mode": {
    "name": "ipython",
    "version": 3
   },
   "file_extension": ".py",
   "mimetype": "text/x-python",
   "name": "python",
   "nbconvert_exporter": "python",
   "pygments_lexer": "ipython3",
   "version": "3.7.11"
  },
  "varInspector": {
   "cols": {
    "lenName": 16,
    "lenType": 16,
    "lenVar": 40
   },
   "kernels_config": {
    "python": {
     "delete_cmd_postfix": "",
     "delete_cmd_prefix": "del ",
     "library": "var_list.py",
     "varRefreshCmd": "print(var_dic_list())"
    },
    "r": {
     "delete_cmd_postfix": ") ",
     "delete_cmd_prefix": "rm(",
     "library": "var_list.r",
     "varRefreshCmd": "cat(var_dic_list()) "
    }
   },
   "types_to_exclude": [
    "module",
    "function",
    "builtin_function_or_method",
    "instance",
    "_Feature"
   ],
   "window_display": false
  }
 },
 "nbformat": 4,
 "nbformat_minor": 5
}
